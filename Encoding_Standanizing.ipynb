{
 "cells": [
  {
   "cell_type": "code",
   "execution_count": 24,
   "id": "222af552",
   "metadata": {},
   "outputs": [],
   "source": [
    "from sklearn.preprocessing import LabelEncoder\n",
    "import pandas as pd\n",
    "df = pd.read_csv(\"cleaned_dataset.csv\")"
   ]
  },
  {
   "cell_type": "code",
   "execution_count": 25,
   "id": "23ec90ab",
   "metadata": {},
   "outputs": [
    {
     "name": "stdout",
     "output_type": "stream",
     "text": [
      "Original 'Road_Type' column:\n",
      "0         Single carriageway\n",
      "1           Dual carriageway\n",
      "2         Single carriageway\n",
      "3         Single carriageway\n",
      "4         Single carriageway\n",
      "                 ...        \n",
      "968983      Dual carriageway\n",
      "968984    Single carriageway\n",
      "968985    Single carriageway\n",
      "968986    Single carriageway\n",
      "968987    Single carriageway\n",
      "Name: Road_Type, Length: 968988, dtype: object\n",
      "\n",
      "Encoded 'Road_Type' column:\n",
      "0         3\n",
      "1         0\n",
      "2         3\n",
      "3         3\n",
      "4         3\n",
      "         ..\n",
      "968983    0\n",
      "968984    3\n",
      "968985    3\n",
      "968986    3\n",
      "968987    3\n",
      "Name: Road_Type_encoded, Length: 968988, dtype: int32\n"
     ]
    }
   ],
   "source": [
    "#Label encoding for Road Type\n",
    "label_encoder_road_type = LabelEncoder()\n",
    "df['Road_Type_encoded'] = label_encoder_road_type.fit_transform(df['Road_Type'])\n",
    "\n",
    "# Print the original 'road type' column and the encoded 'road type' column\n",
    "print(\"Original 'Road_Type' column:\")\n",
    "print(df['Road_Type'])\n",
    "\n",
    "print(\"\\nEncoded 'Road_Type' column:\")\n",
    "print(df['Road_Type_encoded'])"
   ]
  },
  {
   "cell_type": "code",
   "execution_count": 26,
   "id": "51285525",
   "metadata": {},
   "outputs": [
    {
     "name": "stdout",
     "output_type": "stream",
     "text": [
      "Original 'LSOA_of_Accident_Location' column:\n",
      "0         Single carriageway\n",
      "1           Dual carriageway\n",
      "2         Single carriageway\n",
      "3         Single carriageway\n",
      "4         Single carriageway\n",
      "                 ...        \n",
      "968983      Dual carriageway\n",
      "968984    Single carriageway\n",
      "968985    Single carriageway\n",
      "968986    Single carriageway\n",
      "968987    Single carriageway\n",
      "Name: Road_Type, Length: 968988, dtype: object\n",
      "\n",
      "Encoded 'LSOA_of_Accident_Location' column:\n",
      "0         2830\n",
      "1         2890\n",
      "2         2838\n",
      "3         2821\n",
      "4         2844\n",
      "          ... \n",
      "968983    3124\n",
      "968984    3095\n",
      "968985    3106\n",
      "968986    3147\n",
      "968987    3161\n",
      "Name: LSOA_of_Accident_Location_encoded, Length: 968988, dtype: int32\n"
     ]
    }
   ],
   "source": [
    "#Label encoding for 'LSOA_of_Accident_Location' feature\n",
    "\n",
    "label_encoder_LSOA_Loc = LabelEncoder()\n",
    "df['LSOA_of_Accident_Location_encoded'] = label_encoder_LSOA_Loc.fit_transform(df['LSOA_of_Accident_Location'])\n",
    "\n",
    "# Print the original 'LOSA location' column and the encoded 'LOSA Loc' column\n",
    "print(\"Original 'LSOA_of_Accident_Location' column:\")\n",
    "print(df['Road_Type'])\n",
    "\n",
    "print(\"\\nEncoded 'LSOA_of_Accident_Location' column:\")\n",
    "print(df['LSOA_of_Accident_Location_encoded'])"
   ]
  },
  {
   "cell_type": "code",
   "execution_count": 27,
   "id": "6eeca9bb",
   "metadata": {},
   "outputs": [
    {
     "name": "stdout",
     "output_type": "stream",
     "text": [
      "Original 'Light_Conditions' column:\n",
      "0                  Daylight: Street light present\n",
      "1         Darkness: Street lights present and lit\n",
      "2         Darkness: Street lights present and lit\n",
      "3                  Daylight: Street light present\n",
      "4               Darkness: Street lighting unknown\n",
      "                           ...                   \n",
      "968983             Daylight: Street light present\n",
      "968984             Daylight: Street light present\n",
      "968985             Daylight: Street light present\n",
      "968986             Daylight: Street light present\n",
      "968987             Daylight: Street light present\n",
      "Name: Light_Conditions, Length: 968988, dtype: object\n",
      "\n",
      "Encoded 'Light_Conditions' column:\n",
      "0         4\n",
      "1         2\n",
      "2         2\n",
      "3         4\n",
      "4         1\n",
      "         ..\n",
      "968983    4\n",
      "968984    4\n",
      "968985    4\n",
      "968986    4\n",
      "968987    4\n",
      "Name: Light_Conditions_encoded, Length: 968988, dtype: int32\n"
     ]
    }
   ],
   "source": [
    "#Label encoding for 'Light_Conditions' feature\n",
    "\n",
    "label_encoder_Light_Conditions = LabelEncoder()\n",
    "df['Light_Conditions_encoded'] = label_encoder_Light_Conditions.fit_transform(df['Light_Conditions'])\n",
    "\n",
    "# Print the original 'Light_Conditions' column and the encoded 'Light_Conditions' column\n",
    "print(\"Original 'Light_Conditions' column:\")\n",
    "print(df['Light_Conditions'])\n",
    "\n",
    "print(\"\\nEncoded 'Light_Conditions' column:\")\n",
    "print(df['Light_Conditions_encoded'])"
   ]
  },
  {
   "cell_type": "code",
   "execution_count": 28,
   "id": "1ed45920",
   "metadata": {},
   "outputs": [
    {
     "name": "stdout",
     "output_type": "stream",
     "text": [
      "Original 'Weather_Conditions' column:\n",
      "0         Raining no high winds\n",
      "1            Fine no high winds\n",
      "2            Fine no high winds\n",
      "3            Fine no high winds\n",
      "4            Fine no high winds\n",
      "                  ...          \n",
      "968983       Fine no high winds\n",
      "968984       Fine no high winds\n",
      "968985       Fine no high winds\n",
      "968986       Fine no high winds\n",
      "968987    Snowing no high winds\n",
      "Name: Weather_Conditions, Length: 968988, dtype: object\n",
      "\n",
      "Encoded 'Weather_Conditions' column:\n",
      "0         6\n",
      "1         2\n",
      "2         2\n",
      "3         2\n",
      "4         2\n",
      "         ..\n",
      "968983    2\n",
      "968984    2\n",
      "968985    2\n",
      "968986    2\n",
      "968987    8\n",
      "Name: Weather_Conditions_encoded, Length: 968988, dtype: int32\n"
     ]
    }
   ],
   "source": [
    "#Label encoding for 'Weather_Conditions' feature\n",
    "\n",
    "label_encoder_Weather_Conditions = LabelEncoder()\n",
    "df['Weather_Conditions_encoded'] = label_encoder_Weather_Conditions.fit_transform(df['Weather_Conditions'])\n",
    "\n",
    "# Print the original 'Weather_Conditions' column and the encoded 'Weather_Conditions' column\n",
    "print(\"Original 'Weather_Conditions' column:\")\n",
    "print(df['Weather_Conditions'])\n",
    "\n",
    "print(\"\\nEncoded 'Weather_Conditions' column:\")\n",
    "print(df['Weather_Conditions_encoded'])"
   ]
  },
  {
   "cell_type": "code",
   "execution_count": 29,
   "id": "74312aec",
   "metadata": {},
   "outputs": [
    {
     "name": "stdout",
     "output_type": "stream",
     "text": [
      "Original 'Junction_Detail' column:\n",
      "0         Not at junction or within 20 metres\n",
      "1                                  Crossroads\n",
      "2         Not at junction or within 20 metres\n",
      "3         Not at junction or within 20 metres\n",
      "4         Not at junction or within 20 metres\n",
      "                         ...                 \n",
      "968983    Not at junction or within 20 metres\n",
      "968984    Not at junction or within 20 metres\n",
      "968985                T or staggered junction\n",
      "968986                T or staggered junction\n",
      "968987                T or staggered junction\n",
      "Name: Junction_Detail, Length: 968988, dtype: object\n",
      "\n",
      "Encoded 'Junction_Detail' column:\n",
      "0         4\n",
      "1         0\n",
      "2         4\n",
      "3         4\n",
      "4         4\n",
      "         ..\n",
      "968983    4\n",
      "968984    4\n",
      "968985    9\n",
      "968986    9\n",
      "968987    9\n",
      "Name: Junction_Detail_encoded, Length: 968988, dtype: int32\n"
     ]
    }
   ],
   "source": [
    "#Label encoding for 'Junction_Detailther_Conditions' feature\n",
    "\n",
    "label_encoder_Junction_Detail = LabelEncoder()\n",
    "df['Junction_Detail_encoded'] = label_encoder_Junction_Detail.fit_transform(df['Junction_Detail'])\n",
    "\n",
    "# Print the original 'Junction_Detail' column and the encoded 'Junction_Detail' column\n",
    "print(\"Original 'Junction_Detail' column:\")\n",
    "print(df['Junction_Detail'])\n",
    "\n",
    "print(\"\\nEncoded 'Junction_Detail' column:\")\n",
    "print(df['Junction_Detail_encoded'])"
   ]
  },
  {
   "cell_type": "code",
   "execution_count": 30,
   "id": "7e4dd9ee",
   "metadata": {},
   "outputs": [
    {
     "name": "stdout",
     "output_type": "stream",
     "text": [
      "Original 'Junction_Detail' column:\n",
      "0           Tuesday\n",
      "1         Wednesday\n",
      "2          Thursday\n",
      "3            Friday\n",
      "4            Monday\n",
      "            ...    \n",
      "968983     Thursday\n",
      "968984       Sunday\n",
      "968985      Tuesday\n",
      "968986      Tuesday\n",
      "968987       Sunday\n",
      "Name: Day_of_Week, Length: 968988, dtype: object\n",
      "\n",
      "Encoded 'Day_of_Week' column:\n",
      "0         5\n",
      "1         6\n",
      "2         4\n",
      "3         0\n",
      "4         1\n",
      "         ..\n",
      "968983    4\n",
      "968984    3\n",
      "968985    5\n",
      "968986    5\n",
      "968987    3\n",
      "Name: Day_of_Week_encoded, Length: 968988, dtype: int32\n"
     ]
    }
   ],
   "source": [
    "#Label encoding for 'Day_of_Week' feature\n",
    "\n",
    "label_encoder_Day_of_Week = LabelEncoder()\n",
    "df['Day_of_Week_encoded'] = label_encoder_Day_of_Week.fit_transform(df['Day_of_Week'])\n",
    "\n",
    "# Print the original 'Day_of_Week' column and the encoded 'Day_of_Week' column\n",
    "print(\"Original 'Junction_Detail' column:\")\n",
    "print(df['Day_of_Week'])\n",
    "\n",
    "print(\"\\nEncoded 'Day_of_Week' column:\")\n",
    "print(df['Day_of_Week_encoded'])"
   ]
  },
  {
   "cell_type": "code",
   "execution_count": 33,
   "id": "051f6018",
   "metadata": {},
   "outputs": [
    {
     "name": "stdout",
     "output_type": "stream",
     "text": [
      "Original 'Accident_Index' column:\n",
      "0         200501BS00001\n",
      "1         200501BS00002\n",
      "2         200501BS00003\n",
      "3         200501BS00004\n",
      "4         200501BS00005\n",
      "              ...      \n",
      "968983    201201LX50301\n",
      "968984    201201LX50302\n",
      "968985    201201LX50303\n",
      "968986    201201LX50304\n",
      "968987    201201LX50305\n",
      "Name: Accident_Index, Length: 968988, dtype: object\n",
      "\n",
      "Encoded 'Accident_Index' column:\n",
      "0            346\n",
      "1            347\n",
      "2            348\n",
      "3            349\n",
      "4            350\n",
      "           ...  \n",
      "968983    634710\n",
      "968984    634711\n",
      "968985    634712\n",
      "968986    634713\n",
      "968987    634714\n",
      "Name: Accident_Index_encoded, Length: 968988, dtype: int32\n"
     ]
    }
   ],
   "source": [
    "#Label encoding for 'Accident_Index' feature\n",
    "\n",
    "label_encoder_Accident_Index = LabelEncoder()\n",
    "df['Accident_Index_encoded'] = label_encoder_Accident_Index.fit_transform(df['Accident_Index'])\n",
    "\n",
    "# Print the original 'Accident_Index' column and the encoded 'Accident_Index' column\n",
    "print(\"Original 'Accident_Index' column:\")\n",
    "print(df['Accident_Index'])\n",
    "\n",
    "print(\"\\nEncoded 'Accident_Index' column:\")\n",
    "print(df['Accident_Index_encoded'])"
   ]
  },
  {
   "cell_type": "code",
   "execution_count": 34,
   "id": "f84a8c86",
   "metadata": {},
   "outputs": [],
   "source": [
    "# Save the DataFrame to a CSV file\n",
    "\n",
    "# Select the columns you want to save\n",
    "columns_to_save = ['Accident_Index_encoded', 'Day_of_Week_encoded', 'Junction_Detail_encoded', 'Weather_Conditions_encoded', 'Light_Conditions_encoded', 'LSOA_of_Accident_Location_encoded',\n",
    "                   'Road_Type_encoded', 'Date', 'Time', 'Urban_or_Rural_Area', 'Number_of_Vehicles']\n",
    "df[columns_to_save].to_csv('encoded_data.csv', index=False)"
   ]
  },
  {
   "cell_type": "code",
   "execution_count": 32,
   "id": "fd805189",
   "metadata": {},
   "outputs": [],
   "source": [
    "#Extracting the month from date and making new feature\n",
    "\n",
    "df_e = pd.read_csv('encoded_data.csv')\n",
    "# Convert 'date' column to datetime format\n",
    "df_e['Date'] = pd.to_datetime(df['Date'])\n",
    "\n",
    "# Extract month from the 'date' column\n",
    "df['month'] = df['Date'].dt.month\n"
   ]
  },
  {
   "cell_type": "code",
   "execution_count": null,
   "id": "f3452019",
   "metadata": {},
   "outputs": [],
   "source": [
    "\n"
   ]
  },
  {
   "cell_type": "code",
   "execution_count": null,
   "id": "a1e8ecc6",
   "metadata": {},
   "outputs": [],
   "source": [
    "\n"
   ]
  },
  {
   "cell_type": "code",
   "execution_count": null,
   "id": "6dd90972",
   "metadata": {},
   "outputs": [],
   "source": []
  }
 ],
 "metadata": {
  "kernelspec": {
   "display_name": "Python 3 (ipykernel)",
   "language": "python",
   "name": "python3"
  },
  "language_info": {
   "codemirror_mode": {
    "name": "ipython",
    "version": 3
   },
   "file_extension": ".py",
   "mimetype": "text/x-python",
   "name": "python",
   "nbconvert_exporter": "python",
   "pygments_lexer": "ipython3",
   "version": "3.10.4"
  }
 },
 "nbformat": 4,
 "nbformat_minor": 5
}
