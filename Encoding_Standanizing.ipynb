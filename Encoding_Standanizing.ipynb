{
 "cells": [
  {
   "cell_type": "code",
   "execution_count": 5,
   "id": "222af552",
   "metadata": {},
   "outputs": [],
   "source": [
    "from sklearn.preprocessing import LabelEncoder\n",
    "import pandas as pd\n",
    "df = pd.read_csv(\"cleaned_dataset.csv\")"
   ]
  },
  {
   "cell_type": "code",
   "execution_count": 5,
   "id": "23ec90ab",
   "metadata": {},
   "outputs": [
    {
     "name": "stdout",
     "output_type": "stream",
     "text": [
      "Original 'Road_Type' column:\n",
      "0         Single carriageway\n",
      "1           Dual carriageway\n",
      "2         Single carriageway\n",
      "3         Single carriageway\n",
      "4         Single carriageway\n",
      "                 ...        \n",
      "965100      Dual carriageway\n",
      "965101    Single carriageway\n",
      "965102    Single carriageway\n",
      "965103    Single carriageway\n",
      "965104    Single carriageway\n",
      "Name: Road_Type, Length: 965105, dtype: object\n",
      "\n",
      "Encoded 'Road_Type' column:\n",
      "0         3\n",
      "1         0\n",
      "2         3\n",
      "3         3\n",
      "4         3\n",
      "         ..\n",
      "965100    0\n",
      "965101    3\n",
      "965102    3\n",
      "965103    3\n",
      "965104    3\n",
      "Name: Road_Type_encoded, Length: 965105, dtype: int32\n"
     ]
    }
   ],
   "source": [
    "#Label encoding for Road Type\n",
    "label_encoder_road_type = LabelEncoder()\n",
    "df['Road_Type_encoded'] = label_encoder_road_type.fit_transform(df['Road_Type'])\n",
    "\n",
    "# Print the original 'road type' column and the encoded 'road type' column\n",
    "print(\"Original 'Road_Type' column:\")\n",
    "print(df['Road_Type'])\n",
    "\n",
    "print(\"\\nEncoded 'Road_Type' column:\")\n",
    "print(df['Road_Type_encoded'])"
   ]
  },
  {
   "cell_type": "code",
   "execution_count": 8,
   "id": "51285525",
   "metadata": {},
   "outputs": [
    {
     "name": "stdout",
     "output_type": "stream",
     "text": [
      "Original 'LSOA_of_Accident_Location' column:\n",
      "0         Single carriageway\n",
      "1           Dual carriageway\n",
      "2         Single carriageway\n",
      "3         Single carriageway\n",
      "4         Single carriageway\n",
      "                 ...        \n",
      "965100      Dual carriageway\n",
      "965101    Single carriageway\n",
      "965102    Single carriageway\n",
      "965103    Single carriageway\n",
      "965104    Single carriageway\n",
      "Name: Road_Type, Length: 965105, dtype: object\n",
      "\n",
      "Encoded 'LSOA_of_Accident_Location' column:\n",
      "0         2830\n",
      "1         2890\n",
      "2         2838\n",
      "3         2821\n",
      "4         2844\n",
      "          ... \n",
      "965100    3124\n",
      "965101    3095\n",
      "965102    3106\n",
      "965103    3147\n",
      "965104    3161\n",
      "Name: LSOA_of_Accident_Location_encoded, Length: 965105, dtype: int32\n"
     ]
    }
   ],
   "source": [
    "#Label encoding for 'LSOA_of_Accident_Location' feature\n",
    "\n",
    "label_encoder_LSOA_Loc = LabelEncoder()\n",
    "df['LSOA_of_Accident_Location_encoded'] = label_encoder_LSOA_Loc.fit_transform(df['LSOA_of_Accident_Location'])\n",
    "\n",
    "# Print the original 'LOSA location' column and the encoded 'LOSA Loc' column\n",
    "print(\"Original 'LSOA_of_Accident_Location' column:\")\n",
    "print(df['Road_Type'])\n",
    "\n",
    "print(\"\\nEncoded 'LSOA_of_Accident_Location' column:\")\n",
    "print(df['LSOA_of_Accident_Location_encoded'])"
   ]
  },
  {
   "cell_type": "code",
   "execution_count": null,
   "id": "6eeca9bb",
   "metadata": {},
   "outputs": [],
   "source": [
    "#Label encoding for 'Light_Conditions' feature\n",
    "\n",
    "label_encoder_Light_Conditions = LabelEncoder()\n",
    "df['Light_Conditions_encoded'] = label_encoder_Light_Conditions.fit_transform(df['Light_Conditions'])\n",
    "\n",
    "# Print the original 'Light_Conditions' column and the encoded 'Light_Conditions' column\n",
    "print(\"Original 'Light_Conditions' column:\")\n",
    "print(df['Light_Conditions'])\n",
    "\n",
    "print(\"\\nEncoded 'Light_Conditions' column:\")\n",
    "print(df['Light_Conditions_encoded'])"
   ]
  },
  {
   "cell_type": "code",
   "execution_count": null,
   "id": "1ed45920",
   "metadata": {},
   "outputs": [],
   "source": []
  },
  {
   "cell_type": "code",
   "execution_count": null,
   "id": "74312aec",
   "metadata": {},
   "outputs": [],
   "source": []
  },
  {
   "cell_type": "code",
   "execution_count": null,
   "id": "7e4dd9ee",
   "metadata": {},
   "outputs": [],
   "source": [
    "\n"
   ]
  },
  {
   "cell_type": "code",
   "execution_count": null,
   "id": "fd805189",
   "metadata": {},
   "outputs": [],
   "source": [
    "\n"
   ]
  },
  {
   "cell_type": "code",
   "execution_count": null,
   "id": "f3452019",
   "metadata": {},
   "outputs": [],
   "source": [
    "\n"
   ]
  },
  {
   "cell_type": "code",
   "execution_count": null,
   "id": "a1e8ecc6",
   "metadata": {},
   "outputs": [],
   "source": [
    "\n"
   ]
  },
  {
   "cell_type": "code",
   "execution_count": null,
   "id": "6dd90972",
   "metadata": {},
   "outputs": [],
   "source": []
  }
 ],
 "metadata": {
  "kernelspec": {
   "display_name": "Python 3 (ipykernel)",
   "language": "python",
   "name": "python3"
  },
  "language_info": {
   "codemirror_mode": {
    "name": "ipython",
    "version": 3
   },
   "file_extension": ".py",
   "mimetype": "text/x-python",
   "name": "python",
   "nbconvert_exporter": "python",
   "pygments_lexer": "ipython3",
   "version": "3.10.4"
  }
 },
 "nbformat": 4,
 "nbformat_minor": 5
}
