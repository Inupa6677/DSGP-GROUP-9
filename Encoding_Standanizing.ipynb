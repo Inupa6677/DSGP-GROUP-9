{
 "cells": [
  {
   "cell_type": "code",
   "execution_count": 9,
   "id": "222af552",
   "metadata": {},
   "outputs": [],
   "source": [
    "from sklearn.preprocessing import LabelEncoder\n",
    "import pandas as pd\n",
    "df = pd.read_csv(\"cleaned_dataset.csv\")"
   ]
  },
  {
   "cell_type": "code",
   "execution_count": 10,
   "id": "23ec90ab",
   "metadata": {},
   "outputs": [
    {
     "name": "stdout",
     "output_type": "stream",
     "text": [
      "Original 'Road_Type' column:\n",
      "0         Single carriageway\n",
      "1           Dual carriageway\n",
      "2         Single carriageway\n",
      "3         Single carriageway\n",
      "4         Single carriageway\n",
      "                 ...        \n",
      "968983      Dual carriageway\n",
      "968984    Single carriageway\n",
      "968985    Single carriageway\n",
      "968986    Single carriageway\n",
      "968987    Single carriageway\n",
      "Name: Road_Type, Length: 968988, dtype: object\n",
      "\n",
      "Encoded 'Road_Type' column:\n",
      "0         3\n",
      "1         0\n",
      "2         3\n",
      "3         3\n",
      "4         3\n",
      "         ..\n",
      "968983    0\n",
      "968984    3\n",
      "968985    3\n",
      "968986    3\n",
      "968987    3\n",
      "Name: Road_Type_encoded, Length: 968988, dtype: int32\n"
     ]
    }
   ],
   "source": [
    "#Label encoding for Road Type\n",
    "label_encoder_road_type = LabelEncoder()\n",
    "df['Road_Type_encoded'] = label_encoder_road_type.fit_transform(df['Road_Type'])\n",
    "\n",
    "# Print the original 'road type' column and the encoded 'road type' column\n",
    "print(\"Original 'Road_Type' column:\")\n",
    "print(df['Road_Type'])\n",
    "\n",
    "print(\"\\nEncoded 'Road_Type' column:\")\n",
    "print(df['Road_Type_encoded'])"
   ]
  },
  {
   "cell_type": "code",
   "execution_count": 11,
   "id": "51285525",
   "metadata": {},
   "outputs": [
    {
     "name": "stdout",
     "output_type": "stream",
     "text": [
      "Original 'LSOA_of_Accident_Location' column:\n",
      "0         Single carriageway\n",
      "1           Dual carriageway\n",
      "2         Single carriageway\n",
      "3         Single carriageway\n",
      "4         Single carriageway\n",
      "                 ...        \n",
      "968983      Dual carriageway\n",
      "968984    Single carriageway\n",
      "968985    Single carriageway\n",
      "968986    Single carriageway\n",
      "968987    Single carriageway\n",
      "Name: Road_Type, Length: 968988, dtype: object\n",
      "\n",
      "Encoded 'LSOA_of_Accident_Location' column:\n",
      "0         2830\n",
      "1         2890\n",
      "2         2838\n",
      "3         2821\n",
      "4         2844\n",
      "          ... \n",
      "968983    3124\n",
      "968984    3095\n",
      "968985    3106\n",
      "968986    3147\n",
      "968987    3161\n",
      "Name: LSOA_of_Accident_Location_encoded, Length: 968988, dtype: int32\n"
     ]
    }
   ],
   "source": [
    "#Label encoding for 'LSOA_of_Accident_Location' feature\n",
    "\n",
    "label_encoder_LSOA_Loc = LabelEncoder()\n",
    "df['LSOA_of_Accident_Location_encoded'] = label_encoder_LSOA_Loc.fit_transform(df['LSOA_of_Accident_Location'])\n",
    "\n",
    "# Print the original 'LOSA location' column and the encoded 'LOSA Loc' column\n",
    "print(\"Original 'LSOA_of_Accident_Location' column:\")\n",
    "print(df['Road_Type'])\n",
    "\n",
    "print(\"\\nEncoded 'LSOA_of_Accident_Location' column:\")\n",
    "print(df['LSOA_of_Accident_Location_encoded'])"
   ]
  },
  {
   "cell_type": "code",
   "execution_count": 12,
   "id": "6eeca9bb",
   "metadata": {},
   "outputs": [
    {
     "name": "stdout",
     "output_type": "stream",
     "text": [
      "Original 'Light_Conditions' column:\n",
      "0                  Daylight: Street light present\n",
      "1         Darkness: Street lights present and lit\n",
      "2         Darkness: Street lights present and lit\n",
      "3                  Daylight: Street light present\n",
      "4               Darkness: Street lighting unknown\n",
      "                           ...                   \n",
      "968983             Daylight: Street light present\n",
      "968984             Daylight: Street light present\n",
      "968985             Daylight: Street light present\n",
      "968986             Daylight: Street light present\n",
      "968987             Daylight: Street light present\n",
      "Name: Light_Conditions, Length: 968988, dtype: object\n",
      "\n",
      "Encoded 'Light_Conditions' column:\n",
      "0         4\n",
      "1         2\n",
      "2         2\n",
      "3         4\n",
      "4         1\n",
      "         ..\n",
      "968983    4\n",
      "968984    4\n",
      "968985    4\n",
      "968986    4\n",
      "968987    4\n",
      "Name: Light_Conditions_encoded, Length: 968988, dtype: int32\n"
     ]
    }
   ],
   "source": [
    "#Label encoding for 'Light_Conditions' feature\n",
    "\n",
    "label_encoder_Light_Conditions = LabelEncoder()\n",
    "df['Light_Conditions_encoded'] = label_encoder_Light_Conditions.fit_transform(df['Light_Conditions'])\n",
    "\n",
    "# Print the original 'Light_Conditions' column and the encoded 'Light_Conditions' column\n",
    "print(\"Original 'Light_Conditions' column:\")\n",
    "print(df['Light_Conditions'])\n",
    "\n",
    "print(\"\\nEncoded 'Light_Conditions' column:\")\n",
    "print(df['Light_Conditions_encoded'])"
   ]
  },
  {
   "cell_type": "code",
   "execution_count": 13,
   "id": "1ed45920",
   "metadata": {},
   "outputs": [
    {
     "name": "stdout",
     "output_type": "stream",
     "text": [
      "Original 'Weather_Conditions' column:\n",
      "0         Raining no high winds\n",
      "1            Fine no high winds\n",
      "2            Fine no high winds\n",
      "3            Fine no high winds\n",
      "4            Fine no high winds\n",
      "                  ...          \n",
      "968983       Fine no high winds\n",
      "968984       Fine no high winds\n",
      "968985       Fine no high winds\n",
      "968986       Fine no high winds\n",
      "968987    Snowing no high winds\n",
      "Name: Weather_Conditions, Length: 968988, dtype: object\n",
      "\n",
      "Encoded 'Weather_Conditions' column:\n",
      "0         6\n",
      "1         2\n",
      "2         2\n",
      "3         2\n",
      "4         2\n",
      "         ..\n",
      "968983    2\n",
      "968984    2\n",
      "968985    2\n",
      "968986    2\n",
      "968987    8\n",
      "Name: Weather_Conditions_encoded, Length: 968988, dtype: int32\n"
     ]
    }
   ],
   "source": [
    "#Label encoding for 'Weather_Conditions' feature\n",
    "\n",
    "label_encoder_Weather_Conditions = LabelEncoder()\n",
    "df['Weather_Conditions_encoded'] = label_encoder_Weather_Conditions.fit_transform(df['Weather_Conditions'])\n",
    "\n",
    "# Print the original 'Weather_Conditions' column and the encoded 'Weather_Conditions' column\n",
    "print(\"Original 'Weather_Conditions' column:\")\n",
    "print(df['Weather_Conditions'])\n",
    "\n",
    "print(\"\\nEncoded 'Weather_Conditions' column:\")\n",
    "print(df['Weather_Conditions_encoded'])"
   ]
  },
  {
   "cell_type": "code",
   "execution_count": 14,
   "id": "74312aec",
   "metadata": {},
   "outputs": [
    {
     "name": "stdout",
     "output_type": "stream",
     "text": [
      "Original 'Junction_Detail' column:\n",
      "0         Not at junction or within 20 metres\n",
      "1                                  Crossroads\n",
      "2         Not at junction or within 20 metres\n",
      "3         Not at junction or within 20 metres\n",
      "4         Not at junction or within 20 metres\n",
      "                         ...                 \n",
      "968983    Not at junction or within 20 metres\n",
      "968984    Not at junction or within 20 metres\n",
      "968985                T or staggered junction\n",
      "968986                T or staggered junction\n",
      "968987                T or staggered junction\n",
      "Name: Junction_Detail, Length: 968988, dtype: object\n",
      "\n",
      "Encoded 'Junction_Detail' column:\n",
      "0         4\n",
      "1         0\n",
      "2         4\n",
      "3         4\n",
      "4         4\n",
      "         ..\n",
      "968983    4\n",
      "968984    4\n",
      "968985    9\n",
      "968986    9\n",
      "968987    9\n",
      "Name: Junction_Detail_encoded, Length: 968988, dtype: int32\n"
     ]
    }
   ],
   "source": [
    "#Label encoding for 'Junction_Detailther_Conditions' feature\n",
    "\n",
    "label_encoder_Junction_Detail = LabelEncoder()\n",
    "df['Junction_Detail_encoded'] = label_encoder_Junction_Detail.fit_transform(df['Junction_Detail'])\n",
    "\n",
    "# Print the original 'Junction_Detail' column and the encoded 'Junction_Detail' column\n",
    "print(\"Original 'Junction_Detail' column:\")\n",
    "print(df['Junction_Detail'])\n",
    "\n",
    "print(\"\\nEncoded 'Junction_Detail' column:\")\n",
    "print(df['Junction_Detail_encoded'])"
   ]
  },
  {
   "cell_type": "code",
   "execution_count": 15,
   "id": "7e4dd9ee",
   "metadata": {},
   "outputs": [
    {
     "name": "stdout",
     "output_type": "stream",
     "text": [
      "Original 'Junction_Detail' column:\n",
      "0           Tuesday\n",
      "1         Wednesday\n",
      "2          Thursday\n",
      "3            Friday\n",
      "4            Monday\n",
      "            ...    \n",
      "968983     Thursday\n",
      "968984       Sunday\n",
      "968985      Tuesday\n",
      "968986      Tuesday\n",
      "968987       Sunday\n",
      "Name: Day_of_Week, Length: 968988, dtype: object\n",
      "\n",
      "Encoded 'Day_of_Week' column:\n",
      "0         5\n",
      "1         6\n",
      "2         4\n",
      "3         0\n",
      "4         1\n",
      "         ..\n",
      "968983    4\n",
      "968984    3\n",
      "968985    5\n",
      "968986    5\n",
      "968987    3\n",
      "Name: Day_of_Week_encoded, Length: 968988, dtype: int32\n"
     ]
    }
   ],
   "source": [
    "#Label encoding for 'Day_of_Week' feature\n",
    "\n",
    "label_encoder_Day_of_Week = LabelEncoder()\n",
    "df['Day_of_Week_encoded'] = label_encoder_Day_of_Week.fit_transform(df['Day_of_Week'])\n",
    "\n",
    "# Print the original 'Day_of_Week' column and the encoded 'Day_of_Week' column\n",
    "print(\"Original 'Junction_Detail' column:\")\n",
    "print(df['Day_of_Week'])\n",
    "\n",
    "print(\"\\nEncoded 'Day_of_Week' column:\")\n",
    "print(df['Day_of_Week_encoded'])"
   ]
  },
  {
   "cell_type": "code",
   "execution_count": 17,
   "id": "f84a8c86",
   "metadata": {},
   "outputs": [
    {
     "ename": "KeyError",
     "evalue": "\"['Accident_Index_encoded'] not in index\"",
     "output_type": "error",
     "traceback": [
      "\u001b[1;31m---------------------------------------------------------------------------\u001b[0m",
      "\u001b[1;31mKeyError\u001b[0m                                  Traceback (most recent call last)",
      "Cell \u001b[1;32mIn[17], line 6\u001b[0m\n\u001b[0;32m      1\u001b[0m \u001b[38;5;66;03m# Save the DataFrame to a CSV file\u001b[39;00m\n\u001b[0;32m      2\u001b[0m \n\u001b[0;32m      3\u001b[0m \u001b[38;5;66;03m# Select the columns you want to save\u001b[39;00m\n\u001b[0;32m      4\u001b[0m columns_to_save \u001b[38;5;241m=\u001b[39m [\u001b[38;5;124m'\u001b[39m\u001b[38;5;124mAccident_Index_encoded\u001b[39m\u001b[38;5;124m'\u001b[39m, \u001b[38;5;124m'\u001b[39m\u001b[38;5;124mDay_of_Week_encoded\u001b[39m\u001b[38;5;124m'\u001b[39m, \u001b[38;5;124m'\u001b[39m\u001b[38;5;124mJunction_Detail_encoded\u001b[39m\u001b[38;5;124m'\u001b[39m, \u001b[38;5;124m'\u001b[39m\u001b[38;5;124mWeather_Conditions_encoded\u001b[39m\u001b[38;5;124m'\u001b[39m, \u001b[38;5;124m'\u001b[39m\u001b[38;5;124mLight_Conditions_encoded\u001b[39m\u001b[38;5;124m'\u001b[39m, \u001b[38;5;124m'\u001b[39m\u001b[38;5;124mLSOA_of_Accident_Location_encoded\u001b[39m\u001b[38;5;124m'\u001b[39m,\n\u001b[0;32m      5\u001b[0m                    \u001b[38;5;124m'\u001b[39m\u001b[38;5;124mRoad_Type_encoded\u001b[39m\u001b[38;5;124m'\u001b[39m, \u001b[38;5;124m'\u001b[39m\u001b[38;5;124mDate\u001b[39m\u001b[38;5;124m'\u001b[39m, \u001b[38;5;124m'\u001b[39m\u001b[38;5;124mTime\u001b[39m\u001b[38;5;124m'\u001b[39m, \u001b[38;5;124m'\u001b[39m\u001b[38;5;124mUrban_or_Rural_Area\u001b[39m\u001b[38;5;124m'\u001b[39m, \u001b[38;5;124m'\u001b[39m\u001b[38;5;124mNumber_of_Vehicles\u001b[39m\u001b[38;5;124m'\u001b[39m]\n\u001b[1;32m----> 6\u001b[0m \u001b[43mdf\u001b[49m\u001b[43m[\u001b[49m\u001b[43mcolumns_to_save\u001b[49m\u001b[43m]\u001b[49m\u001b[38;5;241m.\u001b[39mto_csv(\u001b[38;5;124m'\u001b[39m\u001b[38;5;124mencoded_data.csv\u001b[39m\u001b[38;5;124m'\u001b[39m, index\u001b[38;5;241m=\u001b[39m\u001b[38;5;28;01mFalse\u001b[39;00m)\n",
      "File \u001b[1;32mc:\\Python310\\lib\\site-packages\\pandas\\core\\frame.py:3767\u001b[0m, in \u001b[0;36mDataFrame.__getitem__\u001b[1;34m(self, key)\u001b[0m\n\u001b[0;32m   3765\u001b[0m     \u001b[38;5;28;01mif\u001b[39;00m is_iterator(key):\n\u001b[0;32m   3766\u001b[0m         key \u001b[38;5;241m=\u001b[39m \u001b[38;5;28mlist\u001b[39m(key)\n\u001b[1;32m-> 3767\u001b[0m     indexer \u001b[38;5;241m=\u001b[39m \u001b[38;5;28;43mself\u001b[39;49m\u001b[38;5;241;43m.\u001b[39;49m\u001b[43mcolumns\u001b[49m\u001b[38;5;241;43m.\u001b[39;49m\u001b[43m_get_indexer_strict\u001b[49m\u001b[43m(\u001b[49m\u001b[43mkey\u001b[49m\u001b[43m,\u001b[49m\u001b[43m \u001b[49m\u001b[38;5;124;43m\"\u001b[39;49m\u001b[38;5;124;43mcolumns\u001b[39;49m\u001b[38;5;124;43m\"\u001b[39;49m\u001b[43m)\u001b[49m[\u001b[38;5;241m1\u001b[39m]\n\u001b[0;32m   3769\u001b[0m \u001b[38;5;66;03m# take() does not accept boolean indexers\u001b[39;00m\n\u001b[0;32m   3770\u001b[0m \u001b[38;5;28;01mif\u001b[39;00m \u001b[38;5;28mgetattr\u001b[39m(indexer, \u001b[38;5;124m\"\u001b[39m\u001b[38;5;124mdtype\u001b[39m\u001b[38;5;124m\"\u001b[39m, \u001b[38;5;28;01mNone\u001b[39;00m) \u001b[38;5;241m==\u001b[39m \u001b[38;5;28mbool\u001b[39m:\n",
      "File \u001b[1;32mc:\\Python310\\lib\\site-packages\\pandas\\core\\indexes\\base.py:5877\u001b[0m, in \u001b[0;36mIndex._get_indexer_strict\u001b[1;34m(self, key, axis_name)\u001b[0m\n\u001b[0;32m   5874\u001b[0m \u001b[38;5;28;01melse\u001b[39;00m:\n\u001b[0;32m   5875\u001b[0m     keyarr, indexer, new_indexer \u001b[38;5;241m=\u001b[39m \u001b[38;5;28mself\u001b[39m\u001b[38;5;241m.\u001b[39m_reindex_non_unique(keyarr)\n\u001b[1;32m-> 5877\u001b[0m \u001b[38;5;28;43mself\u001b[39;49m\u001b[38;5;241;43m.\u001b[39;49m\u001b[43m_raise_if_missing\u001b[49m\u001b[43m(\u001b[49m\u001b[43mkeyarr\u001b[49m\u001b[43m,\u001b[49m\u001b[43m \u001b[49m\u001b[43mindexer\u001b[49m\u001b[43m,\u001b[49m\u001b[43m \u001b[49m\u001b[43maxis_name\u001b[49m\u001b[43m)\u001b[49m\n\u001b[0;32m   5879\u001b[0m keyarr \u001b[38;5;241m=\u001b[39m \u001b[38;5;28mself\u001b[39m\u001b[38;5;241m.\u001b[39mtake(indexer)\n\u001b[0;32m   5880\u001b[0m \u001b[38;5;28;01mif\u001b[39;00m \u001b[38;5;28misinstance\u001b[39m(key, Index):\n\u001b[0;32m   5881\u001b[0m     \u001b[38;5;66;03m# GH 42790 - Preserve name from an Index\u001b[39;00m\n",
      "File \u001b[1;32mc:\\Python310\\lib\\site-packages\\pandas\\core\\indexes\\base.py:5941\u001b[0m, in \u001b[0;36mIndex._raise_if_missing\u001b[1;34m(self, key, indexer, axis_name)\u001b[0m\n\u001b[0;32m   5938\u001b[0m     \u001b[38;5;28;01mraise\u001b[39;00m \u001b[38;5;167;01mKeyError\u001b[39;00m(\u001b[38;5;124mf\u001b[39m\u001b[38;5;124m\"\u001b[39m\u001b[38;5;124mNone of [\u001b[39m\u001b[38;5;132;01m{\u001b[39;00mkey\u001b[38;5;132;01m}\u001b[39;00m\u001b[38;5;124m] are in the [\u001b[39m\u001b[38;5;132;01m{\u001b[39;00maxis_name\u001b[38;5;132;01m}\u001b[39;00m\u001b[38;5;124m]\u001b[39m\u001b[38;5;124m\"\u001b[39m)\n\u001b[0;32m   5940\u001b[0m not_found \u001b[38;5;241m=\u001b[39m \u001b[38;5;28mlist\u001b[39m(ensure_index(key)[missing_mask\u001b[38;5;241m.\u001b[39mnonzero()[\u001b[38;5;241m0\u001b[39m]]\u001b[38;5;241m.\u001b[39munique())\n\u001b[1;32m-> 5941\u001b[0m \u001b[38;5;28;01mraise\u001b[39;00m \u001b[38;5;167;01mKeyError\u001b[39;00m(\u001b[38;5;124mf\u001b[39m\u001b[38;5;124m\"\u001b[39m\u001b[38;5;132;01m{\u001b[39;00mnot_found\u001b[38;5;132;01m}\u001b[39;00m\u001b[38;5;124m not in index\u001b[39m\u001b[38;5;124m\"\u001b[39m)\n",
      "\u001b[1;31mKeyError\u001b[0m: \"['Accident_Index_encoded'] not in index\""
     ]
    }
   ],
   "source": [
    "# Select the columns you want to save\n",
    "columns_to_save = [\"Accident_Index\",\"Location_Easting_OSGR\", \"Location_Northing_OSGR\", \"Longitude\", \"Latitude\",'Day_of_Week_encoded', 'Junction_Detail_encoded', 'Weather_Conditions_encoded', 'Light_Conditions_encoded', 'LSOA_of_Accident_Location_encoded',\n",
    "                   'Road_Type_encoded', 'Date', 'Time', 'Urban_or_Rural_Area', 'Number_of_Vehicles']\n",
    "df[columns_to_save].to_csv('encoded_data.csv', index=False)"
   ]
  },
  {
   "cell_type": "code",
   "execution_count": null,
   "id": "fd805189",
   "metadata": {},
   "outputs": [],
   "source": [
    "import pandas as pd\n",
    "\n",
    "# Assuming your dataset is saved as a CSV file named 'dataset.csv'\n",
    "# Load the dataset into a pandas DataFrame\n",
    "df = pd.read_csv('encoded_data.csv')\n",
    "\n",
    "# Convert the 'Date' column to datetime format\n",
    "df['Date'] = pd.to_datetime(df['Date'], errors='coerce')  # 'coerce' will handle any parsing errors gracefully\n",
    "\n",
    "# Check for any NaT (Not a Time) values that might have occurred during conversion\n",
    "if df['Date'].isnull().any():\n",
    "    print(\"Warning: Some date values could not be parsed.\")\n",
    "\n",
    "# Ensure that all values in the 'Date' column are converted to datetime format\n",
    "df['Date'] = pd.to_datetime(df['Date'])\n",
    "\n",
    "# Extract month from the 'Date' column and save it in a new column named 'Month'\n",
    "df['Month'] = df['Date'].dt.month\n",
    "\n",
    "# If you want to save the month in a string format (e.g., 'January', 'February', etc.), you can use dt.strftime\n",
    "# df['Month'] = df['Date'].dt.strftime('%B')  # '%B' gives full month name\n",
    "\n",
    "# Save the modified DataFrame back to the original CSV file\n",
    "df.to_csv('encoded_data.csv', index=False)\n"
   ]
  },
  {
   "cell_type": "code",
   "execution_count": null,
   "id": "f3452019",
   "metadata": {},
   "outputs": [],
   "source": [
    "\n"
   ]
  },
  {
   "cell_type": "code",
   "execution_count": null,
   "id": "a1e8ecc6",
   "metadata": {},
   "outputs": [],
   "source": [
    "\n"
   ]
  },
  {
   "cell_type": "code",
   "execution_count": null,
   "id": "6dd90972",
   "metadata": {},
   "outputs": [],
   "source": []
  }
 ],
 "metadata": {
  "kernelspec": {
   "display_name": "Python 3 (ipykernel)",
   "language": "python",
   "name": "python3"
  },
  "language_info": {
   "codemirror_mode": {
    "name": "ipython",
    "version": 3
   },
   "file_extension": ".py",
   "mimetype": "text/x-python",
   "name": "python",
   "nbconvert_exporter": "python",
   "pygments_lexer": "ipython3",
   "version": "3.10.4"
  }
 },
 "nbformat": 4,
 "nbformat_minor": 5
}
