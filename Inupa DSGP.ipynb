{
 "cells": [
  {
   "cell_type": "code",
   "execution_count": 2,
   "id": "b8488cb4",
   "metadata": {},
   "outputs": [],
   "source": [
    "import pandas as pd\n",
    "import numpy as np\n",
    "import matplotlib.pyplot as plt"
   ]
  },
  {
   "cell_type": "code",
   "execution_count": 3,
   "id": "8bc84cc6",
   "metadata": {},
   "outputs": [
    {
     "data": {
      "text/html": [
       "<div>\n",
       "<style scoped>\n",
       "    .dataframe tbody tr th:only-of-type {\n",
       "        vertical-align: middle;\n",
       "    }\n",
       "\n",
       "    .dataframe tbody tr th {\n",
       "        vertical-align: top;\n",
       "    }\n",
       "\n",
       "    .dataframe thead th {\n",
       "        text-align: right;\n",
       "    }\n",
       "</style>\n",
       "<table border=\"1\" class=\"dataframe\">\n",
       "  <thead>\n",
       "    <tr style=\"text-align: right;\">\n",
       "      <th></th>\n",
       "      <th>Zone</th>\n",
       "      <th>Year</th>\n",
       "      <th>Day of the Week</th>\n",
       "      <th>Time Period</th>\n",
       "      <th>Acc. Count</th>\n",
       "      <th>Unnamed: 5</th>\n",
       "      <th>Unnamed: 6</th>\n",
       "      <th>Unnamed: 7</th>\n",
       "      <th>Unnamed: 8</th>\n",
       "      <th>Unnamed: 9</th>\n",
       "      <th>Unnamed: 10</th>\n",
       "      <th>Unnamed: 11</th>\n",
       "      <th>Unnamed: 12</th>\n",
       "    </tr>\n",
       "  </thead>\n",
       "  <tbody>\n",
       "    <tr>\n",
       "      <th>0</th>\n",
       "      <td>Birmingham</td>\n",
       "      <td>2005.0</td>\n",
       "      <td>Monday</td>\n",
       "      <td>00:00 - 01:00</td>\n",
       "      <td>14.0</td>\n",
       "      <td>NaN</td>\n",
       "      <td>NaN</td>\n",
       "      <td>NaN</td>\n",
       "      <td>NaN</td>\n",
       "      <td>NaN</td>\n",
       "      <td>NaN</td>\n",
       "      <td>NaN</td>\n",
       "      <td>NaN</td>\n",
       "    </tr>\n",
       "    <tr>\n",
       "      <th>1</th>\n",
       "      <td>Birmingham</td>\n",
       "      <td>2005.0</td>\n",
       "      <td>Monday</td>\n",
       "      <td>01:00 - 02:00</td>\n",
       "      <td>6.0</td>\n",
       "      <td>NaN</td>\n",
       "      <td>NaN</td>\n",
       "      <td>NaN</td>\n",
       "      <td>NaN</td>\n",
       "      <td>NaN</td>\n",
       "      <td>NaN</td>\n",
       "      <td>NaN</td>\n",
       "      <td>NaN</td>\n",
       "    </tr>\n",
       "    <tr>\n",
       "      <th>2</th>\n",
       "      <td>Birmingham</td>\n",
       "      <td>2005.0</td>\n",
       "      <td>Monday</td>\n",
       "      <td>02:00 - 03:00</td>\n",
       "      <td>4.0</td>\n",
       "      <td>NaN</td>\n",
       "      <td>NaN</td>\n",
       "      <td>NaN</td>\n",
       "      <td>NaN</td>\n",
       "      <td>NaN</td>\n",
       "      <td>NaN</td>\n",
       "      <td>NaN</td>\n",
       "      <td>NaN</td>\n",
       "    </tr>\n",
       "    <tr>\n",
       "      <th>3</th>\n",
       "      <td>Birmingham</td>\n",
       "      <td>2005.0</td>\n",
       "      <td>Monday</td>\n",
       "      <td>03:00 - 04:00</td>\n",
       "      <td>1.0</td>\n",
       "      <td>NaN</td>\n",
       "      <td>NaN</td>\n",
       "      <td>NaN</td>\n",
       "      <td>NaN</td>\n",
       "      <td>NaN</td>\n",
       "      <td>NaN</td>\n",
       "      <td>NaN</td>\n",
       "      <td>NaN</td>\n",
       "    </tr>\n",
       "    <tr>\n",
       "      <th>4</th>\n",
       "      <td>Birmingham</td>\n",
       "      <td>2005.0</td>\n",
       "      <td>Monday</td>\n",
       "      <td>04:00 - 05:00</td>\n",
       "      <td>1.0</td>\n",
       "      <td>NaN</td>\n",
       "      <td>NaN</td>\n",
       "      <td>NaN</td>\n",
       "      <td>NaN</td>\n",
       "      <td>NaN</td>\n",
       "      <td>NaN</td>\n",
       "      <td>NaN</td>\n",
       "      <td>NaN</td>\n",
       "    </tr>\n",
       "    <tr>\n",
       "      <th>...</th>\n",
       "      <td>...</td>\n",
       "      <td>...</td>\n",
       "      <td>...</td>\n",
       "      <td>...</td>\n",
       "      <td>...</td>\n",
       "      <td>...</td>\n",
       "      <td>...</td>\n",
       "      <td>...</td>\n",
       "      <td>...</td>\n",
       "      <td>...</td>\n",
       "      <td>...</td>\n",
       "      <td>...</td>\n",
       "      <td>...</td>\n",
       "    </tr>\n",
       "    <tr>\n",
       "      <th>164</th>\n",
       "      <td>Birmingham</td>\n",
       "      <td>2005.0</td>\n",
       "      <td>Sunday</td>\n",
       "      <td>20:00 - 21:00</td>\n",
       "      <td>25.0</td>\n",
       "      <td>NaN</td>\n",
       "      <td>NaN</td>\n",
       "      <td>NaN</td>\n",
       "      <td>NaN</td>\n",
       "      <td>NaN</td>\n",
       "      <td>NaN</td>\n",
       "      <td>NaN</td>\n",
       "      <td>NaN</td>\n",
       "    </tr>\n",
       "    <tr>\n",
       "      <th>165</th>\n",
       "      <td>Birmingham</td>\n",
       "      <td>2005.0</td>\n",
       "      <td>Sunday</td>\n",
       "      <td>21:00 - 22:00</td>\n",
       "      <td>32.0</td>\n",
       "      <td>NaN</td>\n",
       "      <td>NaN</td>\n",
       "      <td>NaN</td>\n",
       "      <td>NaN</td>\n",
       "      <td>NaN</td>\n",
       "      <td>NaN</td>\n",
       "      <td>NaN</td>\n",
       "      <td>NaN</td>\n",
       "    </tr>\n",
       "    <tr>\n",
       "      <th>166</th>\n",
       "      <td>Birmingham</td>\n",
       "      <td>2005.0</td>\n",
       "      <td>Sunday</td>\n",
       "      <td>22:00 - 23:00</td>\n",
       "      <td>11.0</td>\n",
       "      <td>NaN</td>\n",
       "      <td>NaN</td>\n",
       "      <td>NaN</td>\n",
       "      <td>NaN</td>\n",
       "      <td>NaN</td>\n",
       "      <td>NaN</td>\n",
       "      <td>NaN</td>\n",
       "      <td>NaN</td>\n",
       "    </tr>\n",
       "    <tr>\n",
       "      <th>167</th>\n",
       "      <td>Birmingham</td>\n",
       "      <td>2005.0</td>\n",
       "      <td>Sunday</td>\n",
       "      <td>23:00 - 24:00</td>\n",
       "      <td>18.0</td>\n",
       "      <td>Total accident count ( Sunday )</td>\n",
       "      <td>467.0</td>\n",
       "      <td>NaN</td>\n",
       "      <td>Total accident count ( Year )</td>\n",
       "      <td>NaN</td>\n",
       "      <td>NaN</td>\n",
       "      <td>NaN</td>\n",
       "      <td>4084.0</td>\n",
       "    </tr>\n",
       "    <tr>\n",
       "      <th>168</th>\n",
       "      <td>NaN</td>\n",
       "      <td>NaN</td>\n",
       "      <td>NaN</td>\n",
       "      <td>NaN</td>\n",
       "      <td>NaN</td>\n",
       "      <td>NaN</td>\n",
       "      <td>NaN</td>\n",
       "      <td>NaN</td>\n",
       "      <td>NaN</td>\n",
       "      <td>NaN</td>\n",
       "      <td>NaN</td>\n",
       "      <td>NaN</td>\n",
       "      <td>NaN</td>\n",
       "    </tr>\n",
       "  </tbody>\n",
       "</table>\n",
       "<p>169 rows × 13 columns</p>\n",
       "</div>"
      ],
      "text/plain": [
       "           Zone    Year Day of the Week    Time Period  Acc. Count  \\\n",
       "0    Birmingham  2005.0          Monday  00:00 - 01:00        14.0   \n",
       "1    Birmingham  2005.0          Monday  01:00 - 02:00         6.0   \n",
       "2    Birmingham  2005.0          Monday  02:00 - 03:00         4.0   \n",
       "3    Birmingham  2005.0          Monday  03:00 - 04:00         1.0   \n",
       "4    Birmingham  2005.0          Monday  04:00 - 05:00         1.0   \n",
       "..          ...     ...             ...            ...         ...   \n",
       "164  Birmingham  2005.0          Sunday  20:00 - 21:00        25.0   \n",
       "165  Birmingham  2005.0          Sunday  21:00 - 22:00        32.0   \n",
       "166  Birmingham  2005.0          Sunday  22:00 - 23:00        11.0   \n",
       "167  Birmingham  2005.0          Sunday  23:00 - 24:00        18.0   \n",
       "168         NaN     NaN             NaN            NaN         NaN   \n",
       "\n",
       "                          Unnamed: 5  Unnamed: 6  Unnamed: 7  \\\n",
       "0                                NaN         NaN         NaN   \n",
       "1                                NaN         NaN         NaN   \n",
       "2                                NaN         NaN         NaN   \n",
       "3                                NaN         NaN         NaN   \n",
       "4                                NaN         NaN         NaN   \n",
       "..                               ...         ...         ...   \n",
       "164                              NaN         NaN         NaN   \n",
       "165                              NaN         NaN         NaN   \n",
       "166                              NaN         NaN         NaN   \n",
       "167  Total accident count ( Sunday )       467.0         NaN   \n",
       "168                              NaN         NaN         NaN   \n",
       "\n",
       "                        Unnamed: 8  Unnamed: 9  Unnamed: 10  Unnamed: 11  \\\n",
       "0                              NaN         NaN          NaN          NaN   \n",
       "1                              NaN         NaN          NaN          NaN   \n",
       "2                              NaN         NaN          NaN          NaN   \n",
       "3                              NaN         NaN          NaN          NaN   \n",
       "4                              NaN         NaN          NaN          NaN   \n",
       "..                             ...         ...          ...          ...   \n",
       "164                            NaN         NaN          NaN          NaN   \n",
       "165                            NaN         NaN          NaN          NaN   \n",
       "166                            NaN         NaN          NaN          NaN   \n",
       "167  Total accident count ( Year )         NaN          NaN          NaN   \n",
       "168                            NaN         NaN          NaN          NaN   \n",
       "\n",
       "     Unnamed: 12  \n",
       "0            NaN  \n",
       "1            NaN  \n",
       "2            NaN  \n",
       "3            NaN  \n",
       "4            NaN  \n",
       "..           ...  \n",
       "164          NaN  \n",
       "165          NaN  \n",
       "166          NaN  \n",
       "167       4084.0  \n",
       "168          NaN  \n",
       "\n",
       "[169 rows x 13 columns]"
      ]
     },
     "execution_count": 3,
     "metadata": {},
     "output_type": "execute_result"
    }
   ],
   "source": [
    "# first i loaded the dataset\n",
    "df = pd.read_csv('C:/Users/MSI KATANA/Desktop/DSGP Git Repo/DSGP-GROUP-9/Birmingham 2005 - 2010 count CSV.csv')\n",
    "df"
   ]
  },
  {
   "cell_type": "code",
   "execution_count": 5,
   "id": "733747ca",
   "metadata": {},
   "outputs": [
    {
     "name": "stdout",
     "output_type": "stream",
     "text": [
      "           Zone    Year Day of the Week    Time Period  Acc. Count\n",
      "0    Birmingham  2005.0          Monday  00:00 - 01:00        14.0\n",
      "1    Birmingham  2005.0          Monday  01:00 - 02:00         6.0\n",
      "2    Birmingham  2005.0          Monday  02:00 - 03:00         4.0\n",
      "3    Birmingham  2005.0          Monday  03:00 - 04:00         1.0\n",
      "4    Birmingham  2005.0          Monday  04:00 - 05:00         1.0\n",
      "..          ...     ...             ...            ...         ...\n",
      "164  Birmingham  2005.0          Sunday  20:00 - 21:00        25.0\n",
      "165  Birmingham  2005.0          Sunday  21:00 - 22:00        32.0\n",
      "166  Birmingham  2005.0          Sunday  22:00 - 23:00        11.0\n",
      "167  Birmingham  2005.0          Sunday  23:00 - 24:00        18.0\n",
      "168         NaN     NaN             NaN            NaN         NaN\n",
      "\n",
      "[169 rows x 5 columns]\n"
     ]
    }
   ],
   "source": [
    "# now i am selecting the columns that i need to this prediction\n",
    "selected_columns = df[[\"Zone\", \"Year\", \"Day of the Week\", \"Time Period\", \"Acc. Count\"]]\n",
    "\n",
    "# new DataFrame with the selected columns\n",
    "new_df = pd.DataFrame(selected_columns)\n",
    "\n",
    "# print new data frame\n",
    "print(new_df)"
   ]
  },
  {
   "cell_type": "code",
   "execution_count": 6,
   "id": "6e8b929c",
   "metadata": {},
   "outputs": [
    {
     "data": {
      "text/plain": [
       "<bound method DataFrame.info of            Zone    Year Day of the Week    Time Period  Acc. Count\n",
       "0    Birmingham  2005.0          Monday  00:00 - 01:00        14.0\n",
       "1    Birmingham  2005.0          Monday  01:00 - 02:00         6.0\n",
       "2    Birmingham  2005.0          Monday  02:00 - 03:00         4.0\n",
       "3    Birmingham  2005.0          Monday  03:00 - 04:00         1.0\n",
       "4    Birmingham  2005.0          Monday  04:00 - 05:00         1.0\n",
       "..          ...     ...             ...            ...         ...\n",
       "164  Birmingham  2005.0          Sunday  20:00 - 21:00        25.0\n",
       "165  Birmingham  2005.0          Sunday  21:00 - 22:00        32.0\n",
       "166  Birmingham  2005.0          Sunday  22:00 - 23:00        11.0\n",
       "167  Birmingham  2005.0          Sunday  23:00 - 24:00        18.0\n",
       "168         NaN     NaN             NaN            NaN         NaN\n",
       "\n",
       "[169 rows x 5 columns]>"
      ]
     },
     "execution_count": 6,
     "metadata": {},
     "output_type": "execute_result"
    }
   ],
   "source": [
    "# handling with missing values \n",
    "new_df.info"
   ]
  },
  {
   "cell_type": "code",
   "execution_count": 8,
   "id": "1862f057",
   "metadata": {},
   "outputs": [
    {
     "name": "stdout",
     "output_type": "stream",
     "text": [
      "Missing Values in Each Column:\n",
      "Zone               0\n",
      "Year               0\n",
      "Day of the Week    0\n",
      "Time Period        0\n",
      "Acc. Count         0\n",
      "dtype: int64\n"
     ]
    }
   ],
   "source": [
    "# Checking  missing values in the DataFrame\n",
    "missing_values_in_data_frame = new_df.isnull()\n",
    "\n",
    "# number of missing values in each column\n",
    "missing_values_count_in_data_frame = new_df.isnull().sum()\n",
    "\n",
    "# print the result\n",
    "print(\"Missing Values in Each Column:\")\n",
    "print(missing_values_count_in_data_frame)"
   ]
  },
  {
   "cell_type": "code",
   "execution_count": 7,
   "id": "cd3c1c29",
   "metadata": {},
   "outputs": [
    {
     "data": {
      "text/html": [
       "<div>\n",
       "<style scoped>\n",
       "    .dataframe tbody tr th:only-of-type {\n",
       "        vertical-align: middle;\n",
       "    }\n",
       "\n",
       "    .dataframe tbody tr th {\n",
       "        vertical-align: top;\n",
       "    }\n",
       "\n",
       "    .dataframe thead th {\n",
       "        text-align: right;\n",
       "    }\n",
       "</style>\n",
       "<table border=\"1\" class=\"dataframe\">\n",
       "  <thead>\n",
       "    <tr style=\"text-align: right;\">\n",
       "      <th></th>\n",
       "      <th>Zone</th>\n",
       "      <th>Year</th>\n",
       "      <th>Day of the Week</th>\n",
       "      <th>Time Period</th>\n",
       "      <th>Acc. Count</th>\n",
       "    </tr>\n",
       "  </thead>\n",
       "  <tbody>\n",
       "    <tr>\n",
       "      <th>0</th>\n",
       "      <td>Birmingham</td>\n",
       "      <td>2005.0</td>\n",
       "      <td>Monday</td>\n",
       "      <td>00:00 - 01:00</td>\n",
       "      <td>14.0</td>\n",
       "    </tr>\n",
       "    <tr>\n",
       "      <th>1</th>\n",
       "      <td>Birmingham</td>\n",
       "      <td>2005.0</td>\n",
       "      <td>Monday</td>\n",
       "      <td>01:00 - 02:00</td>\n",
       "      <td>6.0</td>\n",
       "    </tr>\n",
       "    <tr>\n",
       "      <th>2</th>\n",
       "      <td>Birmingham</td>\n",
       "      <td>2005.0</td>\n",
       "      <td>Monday</td>\n",
       "      <td>02:00 - 03:00</td>\n",
       "      <td>4.0</td>\n",
       "    </tr>\n",
       "    <tr>\n",
       "      <th>3</th>\n",
       "      <td>Birmingham</td>\n",
       "      <td>2005.0</td>\n",
       "      <td>Monday</td>\n",
       "      <td>03:00 - 04:00</td>\n",
       "      <td>1.0</td>\n",
       "    </tr>\n",
       "    <tr>\n",
       "      <th>4</th>\n",
       "      <td>Birmingham</td>\n",
       "      <td>2005.0</td>\n",
       "      <td>Monday</td>\n",
       "      <td>04:00 - 05:00</td>\n",
       "      <td>1.0</td>\n",
       "    </tr>\n",
       "    <tr>\n",
       "      <th>...</th>\n",
       "      <td>...</td>\n",
       "      <td>...</td>\n",
       "      <td>...</td>\n",
       "      <td>...</td>\n",
       "      <td>...</td>\n",
       "    </tr>\n",
       "    <tr>\n",
       "      <th>163</th>\n",
       "      <td>Birmingham</td>\n",
       "      <td>2005.0</td>\n",
       "      <td>Sunday</td>\n",
       "      <td>19:00 - 20:00</td>\n",
       "      <td>33.0</td>\n",
       "    </tr>\n",
       "    <tr>\n",
       "      <th>164</th>\n",
       "      <td>Birmingham</td>\n",
       "      <td>2005.0</td>\n",
       "      <td>Sunday</td>\n",
       "      <td>20:00 - 21:00</td>\n",
       "      <td>25.0</td>\n",
       "    </tr>\n",
       "    <tr>\n",
       "      <th>165</th>\n",
       "      <td>Birmingham</td>\n",
       "      <td>2005.0</td>\n",
       "      <td>Sunday</td>\n",
       "      <td>21:00 - 22:00</td>\n",
       "      <td>32.0</td>\n",
       "    </tr>\n",
       "    <tr>\n",
       "      <th>166</th>\n",
       "      <td>Birmingham</td>\n",
       "      <td>2005.0</td>\n",
       "      <td>Sunday</td>\n",
       "      <td>22:00 - 23:00</td>\n",
       "      <td>11.0</td>\n",
       "    </tr>\n",
       "    <tr>\n",
       "      <th>167</th>\n",
       "      <td>Birmingham</td>\n",
       "      <td>2005.0</td>\n",
       "      <td>Sunday</td>\n",
       "      <td>23:00 - 24:00</td>\n",
       "      <td>18.0</td>\n",
       "    </tr>\n",
       "  </tbody>\n",
       "</table>\n",
       "<p>168 rows × 5 columns</p>\n",
       "</div>"
      ],
      "text/plain": [
       "           Zone    Year Day of the Week    Time Period  Acc. Count\n",
       "0    Birmingham  2005.0          Monday  00:00 - 01:00        14.0\n",
       "1    Birmingham  2005.0          Monday  01:00 - 02:00         6.0\n",
       "2    Birmingham  2005.0          Monday  02:00 - 03:00         4.0\n",
       "3    Birmingham  2005.0          Monday  03:00 - 04:00         1.0\n",
       "4    Birmingham  2005.0          Monday  04:00 - 05:00         1.0\n",
       "..          ...     ...             ...            ...         ...\n",
       "163  Birmingham  2005.0          Sunday  19:00 - 20:00        33.0\n",
       "164  Birmingham  2005.0          Sunday  20:00 - 21:00        25.0\n",
       "165  Birmingham  2005.0          Sunday  21:00 - 22:00        32.0\n",
       "166  Birmingham  2005.0          Sunday  22:00 - 23:00        11.0\n",
       "167  Birmingham  2005.0          Sunday  23:00 - 24:00        18.0\n",
       "\n",
       "[168 rows x 5 columns]"
      ]
     },
     "execution_count": 7,
     "metadata": {},
     "output_type": "execute_result"
    }
   ],
   "source": [
    "# drop the rows with any missing values\n",
    "new_df = new_df.dropna()\n",
    "new_df"
   ]
  },
  {
   "cell_type": "code",
   "execution_count": 9,
   "id": "5fc4d3be",
   "metadata": {},
   "outputs": [
    {
     "data": {
      "text/html": [
       "<div>\n",
       "<style scoped>\n",
       "    .dataframe tbody tr th:only-of-type {\n",
       "        vertical-align: middle;\n",
       "    }\n",
       "\n",
       "    .dataframe tbody tr th {\n",
       "        vertical-align: top;\n",
       "    }\n",
       "\n",
       "    .dataframe thead th {\n",
       "        text-align: right;\n",
       "    }\n",
       "</style>\n",
       "<table border=\"1\" class=\"dataframe\">\n",
       "  <thead>\n",
       "    <tr style=\"text-align: right;\">\n",
       "      <th></th>\n",
       "      <th>Zone</th>\n",
       "      <th>Year</th>\n",
       "      <th>Day of the Week</th>\n",
       "      <th>Time Period</th>\n",
       "      <th>Acc. Count</th>\n",
       "    </tr>\n",
       "  </thead>\n",
       "  <tbody>\n",
       "    <tr>\n",
       "      <th>0</th>\n",
       "      <td>Birmingham</td>\n",
       "      <td>2005.0</td>\n",
       "      <td>Monday</td>\n",
       "      <td>00:00 - 01:00</td>\n",
       "      <td>14.0</td>\n",
       "    </tr>\n",
       "    <tr>\n",
       "      <th>1</th>\n",
       "      <td>Birmingham</td>\n",
       "      <td>2005.0</td>\n",
       "      <td>Monday</td>\n",
       "      <td>01:00 - 02:00</td>\n",
       "      <td>6.0</td>\n",
       "    </tr>\n",
       "    <tr>\n",
       "      <th>2</th>\n",
       "      <td>Birmingham</td>\n",
       "      <td>2005.0</td>\n",
       "      <td>Monday</td>\n",
       "      <td>02:00 - 03:00</td>\n",
       "      <td>4.0</td>\n",
       "    </tr>\n",
       "    <tr>\n",
       "      <th>3</th>\n",
       "      <td>Birmingham</td>\n",
       "      <td>2005.0</td>\n",
       "      <td>Monday</td>\n",
       "      <td>03:00 - 04:00</td>\n",
       "      <td>1.0</td>\n",
       "    </tr>\n",
       "    <tr>\n",
       "      <th>4</th>\n",
       "      <td>Birmingham</td>\n",
       "      <td>2005.0</td>\n",
       "      <td>Monday</td>\n",
       "      <td>04:00 - 05:00</td>\n",
       "      <td>1.0</td>\n",
       "    </tr>\n",
       "    <tr>\n",
       "      <th>...</th>\n",
       "      <td>...</td>\n",
       "      <td>...</td>\n",
       "      <td>...</td>\n",
       "      <td>...</td>\n",
       "      <td>...</td>\n",
       "    </tr>\n",
       "    <tr>\n",
       "      <th>163</th>\n",
       "      <td>Birmingham</td>\n",
       "      <td>2005.0</td>\n",
       "      <td>Sunday</td>\n",
       "      <td>19:00 - 20:00</td>\n",
       "      <td>33.0</td>\n",
       "    </tr>\n",
       "    <tr>\n",
       "      <th>164</th>\n",
       "      <td>Birmingham</td>\n",
       "      <td>2005.0</td>\n",
       "      <td>Sunday</td>\n",
       "      <td>20:00 - 21:00</td>\n",
       "      <td>25.0</td>\n",
       "    </tr>\n",
       "    <tr>\n",
       "      <th>165</th>\n",
       "      <td>Birmingham</td>\n",
       "      <td>2005.0</td>\n",
       "      <td>Sunday</td>\n",
       "      <td>21:00 - 22:00</td>\n",
       "      <td>32.0</td>\n",
       "    </tr>\n",
       "    <tr>\n",
       "      <th>166</th>\n",
       "      <td>Birmingham</td>\n",
       "      <td>2005.0</td>\n",
       "      <td>Sunday</td>\n",
       "      <td>22:00 - 23:00</td>\n",
       "      <td>11.0</td>\n",
       "    </tr>\n",
       "    <tr>\n",
       "      <th>167</th>\n",
       "      <td>Birmingham</td>\n",
       "      <td>2005.0</td>\n",
       "      <td>Sunday</td>\n",
       "      <td>23:00 - 24:00</td>\n",
       "      <td>18.0</td>\n",
       "    </tr>\n",
       "  </tbody>\n",
       "</table>\n",
       "<p>168 rows × 5 columns</p>\n",
       "</div>"
      ],
      "text/plain": [
       "           Zone    Year Day of the Week    Time Period  Acc. Count\n",
       "0    Birmingham  2005.0          Monday  00:00 - 01:00        14.0\n",
       "1    Birmingham  2005.0          Monday  01:00 - 02:00         6.0\n",
       "2    Birmingham  2005.0          Monday  02:00 - 03:00         4.0\n",
       "3    Birmingham  2005.0          Monday  03:00 - 04:00         1.0\n",
       "4    Birmingham  2005.0          Monday  04:00 - 05:00         1.0\n",
       "..          ...     ...             ...            ...         ...\n",
       "163  Birmingham  2005.0          Sunday  19:00 - 20:00        33.0\n",
       "164  Birmingham  2005.0          Sunday  20:00 - 21:00        25.0\n",
       "165  Birmingham  2005.0          Sunday  21:00 - 22:00        32.0\n",
       "166  Birmingham  2005.0          Sunday  22:00 - 23:00        11.0\n",
       "167  Birmingham  2005.0          Sunday  23:00 - 24:00        18.0\n",
       "\n",
       "[168 rows x 5 columns]"
      ]
     },
     "execution_count": 9,
     "metadata": {},
     "output_type": "execute_result"
    }
   ],
   "source": [
    "# remove the duplicate values in rows \n",
    "new_df = new_df.drop_duplicates()\n",
    "new_df"
   ]
  },
  {
   "cell_type": "code",
   "execution_count": 10,
   "id": "dd3010fb",
   "metadata": {},
   "outputs": [
    {
     "data": {
      "text/plain": [
       "<Axes: >"
      ]
     },
     "execution_count": 10,
     "metadata": {},
     "output_type": "execute_result"
    },
    {
     "data": {
      "image/png": "[encoded data removed]",
      "text/plain": [
       "<Figure size 640x480 with 1 Axes>"
      ]
     },
     "metadata": {},
     "output_type": "display_data"
    }
   ],
   "source": [
    "new_df['Acc. Count'].plot(kind='box')"
   ]
  },
  {
   "cell_type": "code",
   "execution_count": 19,
   "id": "70a3cb88",
   "metadata": {},
   "outputs": [
    {
     "data": {
      "image/png": "[encoded data removed]",
      "text/plain": [
       "<Figure size 800x600 with 1 Axes>"
      ]
     },
     "metadata": {},
     "output_type": "display_data"
    },
    {
     "data": {
      "image/png": "[encoded data removed]",
      "text/plain": [
       "<Figure size 800x600 with 1 Axes>"
      ]
     },
     "metadata": {},
     "output_type": "display_data"
    }
   ],
   "source": [
    "import seaborn as sns\n",
    "# Box plot for 'Year'\n",
    "plt.figure(figsize=(8, 6))\n",
    "sns.boxplot(x=new_df['Year'])\n",
    "plt.title('Box Plot for Year')\n",
    "plt.show()\n",
    "\n",
    "# Box plot for 'Acc. Count'\n",
    "plt.figure(figsize=(8, 6))\n",
    "sns.boxplot(x=new_df['Acc. Count'])\n",
    "plt.title('Box Plot for Acc. Count')\n",
    "plt.show()\n"
   ]
  },
  {
   "cell_type": "code",
   "execution_count": 20,
   "id": "30dfe421",
   "metadata": {},
   "outputs": [
    {
     "data": {
      "image/png": "[encoded data removed]",
      "text/plain": [
       "<Figure size 1200x800 with 1 Axes>"
      ]
     },
     "metadata": {},
     "output_type": "display_data"
    }
   ],
   "source": [
    "# Count plot for 'Zone'\n",
    "plt.figure(figsize=(12, 8))\n",
    "sns.countplot(x=new_df['Zone'])\n",
    "plt.title('Count Plot for Zone')\n",
    "plt.show()"
   ]
  },
  {
   "cell_type": "code",
   "execution_count": 21,
   "id": "417a08f8",
   "metadata": {},
   "outputs": [
    {
     "data": {
      "image/png": "[encoded data removed]",
      "text/plain": [
       "<Figure size 1000x800 with 1 Axes>"
      ]
     },
     "metadata": {},
     "output_type": "display_data"
    }
   ],
   "source": [
    "# Count plot for 'Day of the Week'\n",
    "plt.figure(figsize=(10, 8))\n",
    "sns.countplot(x=new_df['Day of the Week'])\n",
    "plt.title('Count Plot for Day of the Week')\n",
    "plt.show()"
   ]
  },
  {
   "cell_type": "code",
   "execution_count": 22,
   "id": "e135a7e9",
   "metadata": {},
   "outputs": [
    {
     "data": {
      "image/png": "[encoded data removed]",
      "text/plain": [
       "<Figure size 1000x800 with 1 Axes>"
      ]
     },
     "metadata": {},
     "output_type": "display_data"
    }
   ],
   "source": [
    "# Count plot for 'Time Period'\n",
    "plt.figure(figsize=(10, 8))\n",
    "sns.countplot(x=new_df['Time Period'])\n",
    "plt.title('Count Plot for Time Period')\n",
    "plt.xticks(rotation=45, ha='right')  # Rotate x-axis labels for better readability\n",
    "plt.show()"
   ]
  },
  {
   "cell_type": "code",
   "execution_count": 24,
   "id": "1cdf50d3",
   "metadata": {},
   "outputs": [
    {
     "data": {
      "text/html": [
       "<div>\n",
       "<style scoped>\n",
       "    .dataframe tbody tr th:only-of-type {\n",
       "        vertical-align: middle;\n",
       "    }\n",
       "\n",
       "    .dataframe tbody tr th {\n",
       "        vertical-align: top;\n",
       "    }\n",
       "\n",
       "    .dataframe thead th {\n",
       "        text-align: right;\n",
       "    }\n",
       "</style>\n",
       "<table border=\"1\" class=\"dataframe\">\n",
       "  <thead>\n",
       "    <tr style=\"text-align: right;\">\n",
       "      <th></th>\n",
       "      <th>Zone</th>\n",
       "      <th>Year</th>\n",
       "      <th>Day of the Week</th>\n",
       "      <th>Time Period</th>\n",
       "      <th>Acc. Count</th>\n",
       "    </tr>\n",
       "  </thead>\n",
       "  <tbody>\n",
       "    <tr>\n",
       "      <th>0</th>\n",
       "      <td>0</td>\n",
       "      <td>2005.0</td>\n",
       "      <td>1</td>\n",
       "      <td>0</td>\n",
       "      <td>14.0</td>\n",
       "    </tr>\n",
       "    <tr>\n",
       "      <th>1</th>\n",
       "      <td>0</td>\n",
       "      <td>2005.0</td>\n",
       "      <td>1</td>\n",
       "      <td>1</td>\n",
       "      <td>6.0</td>\n",
       "    </tr>\n",
       "    <tr>\n",
       "      <th>2</th>\n",
       "      <td>0</td>\n",
       "      <td>2005.0</td>\n",
       "      <td>1</td>\n",
       "      <td>2</td>\n",
       "      <td>4.0</td>\n",
       "    </tr>\n",
       "    <tr>\n",
       "      <th>3</th>\n",
       "      <td>0</td>\n",
       "      <td>2005.0</td>\n",
       "      <td>1</td>\n",
       "      <td>3</td>\n",
       "      <td>1.0</td>\n",
       "    </tr>\n",
       "    <tr>\n",
       "      <th>4</th>\n",
       "      <td>0</td>\n",
       "      <td>2005.0</td>\n",
       "      <td>1</td>\n",
       "      <td>4</td>\n",
       "      <td>1.0</td>\n",
       "    </tr>\n",
       "    <tr>\n",
       "      <th>...</th>\n",
       "      <td>...</td>\n",
       "      <td>...</td>\n",
       "      <td>...</td>\n",
       "      <td>...</td>\n",
       "      <td>...</td>\n",
       "    </tr>\n",
       "    <tr>\n",
       "      <th>163</th>\n",
       "      <td>0</td>\n",
       "      <td>2005.0</td>\n",
       "      <td>3</td>\n",
       "      <td>19</td>\n",
       "      <td>33.0</td>\n",
       "    </tr>\n",
       "    <tr>\n",
       "      <th>164</th>\n",
       "      <td>0</td>\n",
       "      <td>2005.0</td>\n",
       "      <td>3</td>\n",
       "      <td>20</td>\n",
       "      <td>25.0</td>\n",
       "    </tr>\n",
       "    <tr>\n",
       "      <th>165</th>\n",
       "      <td>0</td>\n",
       "      <td>2005.0</td>\n",
       "      <td>3</td>\n",
       "      <td>21</td>\n",
       "      <td>32.0</td>\n",
       "    </tr>\n",
       "    <tr>\n",
       "      <th>166</th>\n",
       "      <td>0</td>\n",
       "      <td>2005.0</td>\n",
       "      <td>3</td>\n",
       "      <td>22</td>\n",
       "      <td>11.0</td>\n",
       "    </tr>\n",
       "    <tr>\n",
       "      <th>167</th>\n",
       "      <td>0</td>\n",
       "      <td>2005.0</td>\n",
       "      <td>3</td>\n",
       "      <td>23</td>\n",
       "      <td>18.0</td>\n",
       "    </tr>\n",
       "  </tbody>\n",
       "</table>\n",
       "<p>168 rows × 5 columns</p>\n",
       "</div>"
      ],
      "text/plain": [
       "     Zone    Year  Day of the Week  Time Period  Acc. Count\n",
       "0       0  2005.0                1            0        14.0\n",
       "1       0  2005.0                1            1         6.0\n",
       "2       0  2005.0                1            2         4.0\n",
       "3       0  2005.0                1            3         1.0\n",
       "4       0  2005.0                1            4         1.0\n",
       "..    ...     ...              ...          ...         ...\n",
       "163     0  2005.0                3           19        33.0\n",
       "164     0  2005.0                3           20        25.0\n",
       "165     0  2005.0                3           21        32.0\n",
       "166     0  2005.0                3           22        11.0\n",
       "167     0  2005.0                3           23        18.0\n",
       "\n",
       "[168 rows x 5 columns]"
      ]
     },
     "execution_count": 24,
     "metadata": {},
     "output_type": "execute_result"
    }
   ],
   "source": [
    "from sklearn.preprocessing import LabelEncoder\n",
    "\n",
    "label_encoder = LabelEncoder()\n",
    "new_df['Zone'] = label_encoder.fit_transform(new_df['Zone'])\n",
    "new_df['Day of the Week'] = label_encoder.fit_transform(new_df['Day of the Week'])\n",
    "new_df['Time Period'] = label_encoder.fit_transform(new_df['Time Period'])\n",
    "new_df"
   ]
  },
  {
   "cell_type": "code",
   "execution_count": 26,
   "id": "f7be1a34",
   "metadata": {},
   "outputs": [
    {
     "data": {
      "text/plain": [
       "<bound method NDFrame.head of      Zone    Year  Day of the Week  Time Period  Acc. Count\n",
       "0       0  2005.0                1            0        14.0\n",
       "1       0  2005.0                1            1         6.0\n",
       "2       0  2005.0                1            2         4.0\n",
       "3       0  2005.0                1            3         1.0\n",
       "4       0  2005.0                1            4         1.0\n",
       "..    ...     ...              ...          ...         ...\n",
       "163     0  2005.0                3           19        33.0\n",
       "164     0  2005.0                3           20        25.0\n",
       "165     0  2005.0                3           21        32.0\n",
       "166     0  2005.0                3           22        11.0\n",
       "167     0  2005.0                3           23        18.0\n",
       "\n",
       "[168 rows x 5 columns]>"
      ]
     },
     "execution_count": 26,
     "metadata": {},
     "output_type": "execute_result"
    }
   ],
   "source": [
    "new_df.head"
   ]
  },
  {
   "cell_type": "code",
   "execution_count": 27,
   "id": "acb268e3",
   "metadata": {},
   "outputs": [
    {
     "data": {
      "text/html": [
       "<div>\n",
       "<style scoped>\n",
       "    .dataframe tbody tr th:only-of-type {\n",
       "        vertical-align: middle;\n",
       "    }\n",
       "\n",
       "    .dataframe tbody tr th {\n",
       "        vertical-align: top;\n",
       "    }\n",
       "\n",
       "    .dataframe thead th {\n",
       "        text-align: right;\n",
       "    }\n",
       "</style>\n",
       "<table border=\"1\" class=\"dataframe\">\n",
       "  <thead>\n",
       "    <tr style=\"text-align: right;\">\n",
       "      <th></th>\n",
       "      <th>Zone</th>\n",
       "      <th>Day of the Week</th>\n",
       "      <th>Time Period</th>\n",
       "      <th>Acc. Count</th>\n",
       "    </tr>\n",
       "  </thead>\n",
       "  <tbody>\n",
       "    <tr>\n",
       "      <th>0</th>\n",
       "      <td>0</td>\n",
       "      <td>1</td>\n",
       "      <td>0</td>\n",
       "      <td>14.0</td>\n",
       "    </tr>\n",
       "    <tr>\n",
       "      <th>1</th>\n",
       "      <td>0</td>\n",
       "      <td>1</td>\n",
       "      <td>1</td>\n",
       "      <td>6.0</td>\n",
       "    </tr>\n",
       "    <tr>\n",
       "      <th>2</th>\n",
       "      <td>0</td>\n",
       "      <td>1</td>\n",
       "      <td>2</td>\n",
       "      <td>4.0</td>\n",
       "    </tr>\n",
       "    <tr>\n",
       "      <th>3</th>\n",
       "      <td>0</td>\n",
       "      <td>1</td>\n",
       "      <td>3</td>\n",
       "      <td>1.0</td>\n",
       "    </tr>\n",
       "    <tr>\n",
       "      <th>4</th>\n",
       "      <td>0</td>\n",
       "      <td>1</td>\n",
       "      <td>4</td>\n",
       "      <td>1.0</td>\n",
       "    </tr>\n",
       "    <tr>\n",
       "      <th>...</th>\n",
       "      <td>...</td>\n",
       "      <td>...</td>\n",
       "      <td>...</td>\n",
       "      <td>...</td>\n",
       "    </tr>\n",
       "    <tr>\n",
       "      <th>163</th>\n",
       "      <td>0</td>\n",
       "      <td>3</td>\n",
       "      <td>19</td>\n",
       "      <td>33.0</td>\n",
       "    </tr>\n",
       "    <tr>\n",
       "      <th>164</th>\n",
       "      <td>0</td>\n",
       "      <td>3</td>\n",
       "      <td>20</td>\n",
       "      <td>25.0</td>\n",
       "    </tr>\n",
       "    <tr>\n",
       "      <th>165</th>\n",
       "      <td>0</td>\n",
       "      <td>3</td>\n",
       "      <td>21</td>\n",
       "      <td>32.0</td>\n",
       "    </tr>\n",
       "    <tr>\n",
       "      <th>166</th>\n",
       "      <td>0</td>\n",
       "      <td>3</td>\n",
       "      <td>22</td>\n",
       "      <td>11.0</td>\n",
       "    </tr>\n",
       "    <tr>\n",
       "      <th>167</th>\n",
       "      <td>0</td>\n",
       "      <td>3</td>\n",
       "      <td>23</td>\n",
       "      <td>18.0</td>\n",
       "    </tr>\n",
       "  </tbody>\n",
       "</table>\n",
       "<p>168 rows × 4 columns</p>\n",
       "</div>"
      ],
      "text/plain": [
       "     Zone  Day of the Week  Time Period  Acc. Count\n",
       "0       0                1            0        14.0\n",
       "1       0                1            1         6.0\n",
       "2       0                1            2         4.0\n",
       "3       0                1            3         1.0\n",
       "4       0                1            4         1.0\n",
       "..    ...              ...          ...         ...\n",
       "163     0                3           19        33.0\n",
       "164     0                3           20        25.0\n",
       "165     0                3           21        32.0\n",
       "166     0                3           22        11.0\n",
       "167     0                3           23        18.0\n",
       "\n",
       "[168 rows x 4 columns]"
      ]
     },
     "execution_count": 27,
     "metadata": {},
     "output_type": "execute_result"
    }
   ],
   "source": [
    "# dropping the column year for now\n",
    "new_df = new_df.drop(columns=['Year'])\n",
    "new_df"
   ]
  },
  {
   "cell_type": "code",
   "execution_count": 34,
   "id": "c529d466",
   "metadata": {},
   "outputs": [
    {
     "name": "stdout",
     "output_type": "stream",
     "text": [
      "     Zone  Day of the Week  Time Period  Acc. Count\n",
      "0       0                1            0        14.0\n",
      "1       0                1            1         6.0\n",
      "2       0                1            2         4.0\n",
      "3       0                1            3         1.0\n",
      "4       0                1            4         1.0\n",
      "..    ...              ...          ...         ...\n",
      "163     0                3           19        33.0\n",
      "164     0                3           20        25.0\n",
      "165     0                3           21        32.0\n",
      "166     0                3           22        11.0\n",
      "167     0                3           23        18.0\n",
      "\n",
      "[168 rows x 4 columns]\n"
     ]
    }
   ],
   "source": [
    "# Remove rows with null values\n",
    "new_df_cleaned = new_df.dropna()\n",
    "\n",
    "# Display the cleaned DataFrame\n",
    "print(new_df_cleaned)"
   ]
  },
  {
   "cell_type": "code",
   "execution_count": 35,
   "id": "62a13669",
   "metadata": {},
   "outputs": [
    {
     "name": "stdout",
     "output_type": "stream",
     "text": [
      "     Zone  Day of the Week  Time Period  Acc. Count\n",
      "0       0                1            0        14.0\n",
      "1       0                1            1         6.0\n",
      "2       0                1            2         4.0\n",
      "3       0                1            3         1.0\n",
      "4       0                1            4         1.0\n",
      "..    ...              ...          ...         ...\n",
      "163     0                3           19        33.0\n",
      "164     0                3           20        25.0\n",
      "165     0                3           21        32.0\n",
      "166     0                3           22        11.0\n",
      "167     0                3           23        18.0\n",
      "\n",
      "[168 rows x 4 columns]\n"
     ]
    }
   ],
   "source": [
    "# Remove rows with null values in-place\n",
    "new_df.dropna(inplace=True)\n",
    "\n",
    "# Display the cleaned DataFrame\n",
    "print(new_df)"
   ]
  },
  {
   "cell_type": "code",
   "execution_count": 36,
   "id": "067d9920",
   "metadata": {},
   "outputs": [
    {
     "name": "stdout",
     "output_type": "stream",
     "text": [
      "     Zone  Day of the Week  Time Period  Acc. Count\n",
      "0       0                1            0        14.0\n",
      "1       0                1            1         6.0\n",
      "2       0                1            2         4.0\n",
      "3       0                1            3         1.0\n",
      "4       0                1            4         1.0\n",
      "..    ...              ...          ...         ...\n",
      "163     0                3           19        33.0\n",
      "164     0                3           20        25.0\n",
      "165     0                3           21        32.0\n",
      "166     0                3           22        11.0\n",
      "167     0                3           23        18.0\n",
      "\n",
      "[168 rows x 4 columns]\n"
     ]
    }
   ],
   "source": [
    "# Remove duplicate rows in-place\n",
    "new_df.drop_duplicates(inplace=True)\n",
    "\n",
    "# Display the cleaned DataFrame without duplicates\n",
    "print(new_df)\n"
   ]
  },
  {
   "cell_type": "code",
   "execution_count": 37,
   "id": "a0a396a7",
   "metadata": {},
   "outputs": [
    {
     "name": "stdout",
     "output_type": "stream",
     "text": [
      "Missing Values in Each Column:\n",
      "Zone               0\n",
      "Day of the Week    0\n",
      "Time Period        0\n",
      "Acc. Count         0\n",
      "dtype: int64\n"
     ]
    }
   ],
   "source": [
    "# Check for missing values in each column\n",
    "missing_values_per_column = new_df.isnull().sum()\n",
    "\n",
    "# Display the result\n",
    "print(\"Missing Values in Each Column:\")\n",
    "print(missing_values_per_column)\n"
   ]
  },
  {
   "cell_type": "code",
   "execution_count": 41,
   "id": "e4f0504f",
   "metadata": {},
   "outputs": [],
   "source": [
    "from sklearn.model_selection import train_test_split\n",
    "from sklearn.linear_model import LinearRegression\n",
    "from sklearn.metrics import mean_squared_error"
   ]
  },
  {
   "cell_type": "code",
   "execution_count": 43,
   "id": "d3561d9b",
   "metadata": {},
   "outputs": [],
   "source": [
    "X = new_df[['Day of the Week', 'Time Period']]\n",
    "y = new_df['Acc. Count']\n",
    "\n",
    "X_train, X_test, y_train, y_test = train_test_split(X, y, test_size=0.2, random_state=42)\n"
   ]
  },
  {
   "cell_type": "code",
   "execution_count": 44,
   "id": "c8dc42d8",
   "metadata": {},
   "outputs": [],
   "source": [
    "# choose the model\n",
    "model = LinearRegression()"
   ]
  },
  {
   "cell_type": "code",
   "execution_count": 46,
   "id": "2efd05d7",
   "metadata": {},
   "outputs": [
    {
     "data": {
      "text/html": [
       "<style>#sk-container-id-1 {color: black;}#sk-container-id-1 pre{padding: 0;}#sk-container-id-1 div.sk-toggleable {background-color: white;}#sk-container-id-1 label.sk-toggleable__label {cursor: pointer;display: block;width: 100%;margin-bottom: 0;padding: 0.3em;box-sizing: border-box;text-align: center;}#sk-container-id-1 label.sk-toggleable__label-arrow:before {content: \"▸\";float: left;margin-right: 0.25em;color: #696969;}#sk-container-id-1 label.sk-toggleable__label-arrow:hover:before {color: black;}#sk-container-id-1 div.sk-estimator:hover label.sk-toggleable__label-arrow:before {color: black;}#sk-container-id-1 div.sk-toggleable__content {max-height: 0;max-width: 0;overflow: hidden;text-align: left;background-color: #f0f8ff;}#sk-container-id-1 div.sk-toggleable__content pre {margin: 0.2em;color: black;border-radius: 0.25em;background-color: #f0f8ff;}#sk-container-id-1 input.sk-toggleable__control:checked~div.sk-toggleable__content {max-height: 200px;max-width: 100%;overflow: auto;}#sk-container-id-1 input.sk-toggleable__control:checked~label.sk-toggleable__label-arrow:before {content: \"▾\";}#sk-container-id-1 div.sk-estimator input.sk-toggleable__control:checked~label.sk-toggleable__label {background-color: #d4ebff;}#sk-container-id-1 div.sk-label input.sk-toggleable__control:checked~label.sk-toggleable__label {background-color: #d4ebff;}#sk-container-id-1 input.sk-hidden--visually {border: 0;clip: rect(1px 1px 1px 1px);clip: rect(1px, 1px, 1px, 1px);height: 1px;margin: -1px;overflow: hidden;padding: 0;position: absolute;width: 1px;}#sk-container-id-1 div.sk-estimator {font-family: monospace;background-color: #f0f8ff;border: 1px dotted black;border-radius: 0.25em;box-sizing: border-box;margin-bottom: 0.5em;}#sk-container-id-1 div.sk-estimator:hover {background-color: #d4ebff;}#sk-container-id-1 div.sk-parallel-item::after {content: \"\";width: 100%;border-bottom: 1px solid gray;flex-grow: 1;}#sk-container-id-1 div.sk-label:hover label.sk-toggleable__label {background-color: #d4ebff;}#sk-container-id-1 div.sk-serial::before {content: \"\";position: absolute;border-left: 1px solid gray;box-sizing: border-box;top: 0;bottom: 0;left: 50%;z-index: 0;}#sk-container-id-1 div.sk-serial {display: flex;flex-direction: column;align-items: center;background-color: white;padding-right: 0.2em;padding-left: 0.2em;position: relative;}#sk-container-id-1 div.sk-item {position: relative;z-index: 1;}#sk-container-id-1 div.sk-parallel {display: flex;align-items: stretch;justify-content: center;background-color: white;position: relative;}#sk-container-id-1 div.sk-item::before, #sk-container-id-1 div.sk-parallel-item::before {content: \"\";position: absolute;border-left: 1px solid gray;box-sizing: border-box;top: 0;bottom: 0;left: 50%;z-index: -1;}#sk-container-id-1 div.sk-parallel-item {display: flex;flex-direction: column;z-index: 1;position: relative;background-color: white;}#sk-container-id-1 div.sk-parallel-item:first-child::after {align-self: flex-end;width: 50%;}#sk-container-id-1 div.sk-parallel-item:last-child::after {align-self: flex-start;width: 50%;}#sk-container-id-1 div.sk-parallel-item:only-child::after {width: 0;}#sk-container-id-1 div.sk-dashed-wrapped {border: 1px dashed gray;margin: 0 0.4em 0.5em 0.4em;box-sizing: border-box;padding-bottom: 0.4em;background-color: white;}#sk-container-id-1 div.sk-label label {font-family: monospace;font-weight: bold;display: inline-block;line-height: 1.2em;}#sk-container-id-1 div.sk-label-container {text-align: center;}#sk-container-id-1 div.sk-container {/* jupyter's `normalize.less` sets `[hidden] { display: none; }` but bootstrap.min.css set `[hidden] { display: none !important; }` so we also need the `!important` here to be able to override the default hidden behavior on the sphinx rendered scikit-learn.org. See: https://github.com/scikit-learn/scikit-learn/issues/21755 */display: inline-block !important;position: relative;}#sk-container-id-1 div.sk-text-repr-fallback {display: none;}</style><div id=\"sk-container-id-1\" class=\"sk-top-container\"><div class=\"sk-text-repr-fallback\"><pre>LinearRegression()</pre><b>In a Jupyter environment, please rerun this cell to show the HTML representation or trust the notebook. <br />On GitHub, the HTML representation is unable to render, please try loading this page with nbviewer.org.</b></div><div class=\"sk-container\" hidden><div class=\"sk-item\"><div class=\"sk-estimator sk-toggleable\"><input class=\"sk-toggleable__control sk-hidden--visually\" id=\"sk-estimator-id-1\" type=\"checkbox\" checked><label for=\"sk-estimator-id-1\" class=\"sk-toggleable__label sk-toggleable__label-arrow\">LinearRegression</label><div class=\"sk-toggleable__content\"><pre>LinearRegression()</pre></div></div></div></div></div>"
      ],
      "text/plain": [
       "LinearRegression()"
      ]
     },
     "execution_count": 46,
     "metadata": {},
     "output_type": "execute_result"
    }
   ],
   "source": [
    "# training the model\n",
    "model.fit(X_train, y_train)\n"
   ]
  },
  {
   "cell_type": "code",
   "execution_count": 47,
   "id": "7451259a",
   "metadata": {},
   "outputs": [],
   "source": [
    "def predict_accident_count(day_of_week, time_period, model):\n",
    "    input_data = [[day_of_week, time_period]]\n",
    "    prediction = model.predict(input_data)\n",
    "    return prediction[0]\n"
   ]
  },
  {
   "cell_type": "code",
   "execution_count": 48,
   "id": "35d6a021",
   "metadata": {},
   "outputs": [],
   "source": [
    "# make prediction for test data\n",
    "y_pred = model.predict(X_test)"
   ]
  },
  {
   "cell_type": "code",
   "execution_count": 49,
   "id": "0f70bdaf",
   "metadata": {},
   "outputs": [
    {
     "name": "stdout",
     "output_type": "stream",
     "text": [
      "Mean Squared Error on Test Set: 178.01924400138196\n"
     ]
    }
   ],
   "source": [
    "# evaluate the model\n",
    "mse = mean_squared_error(y_test, y_pred)\n",
    "print(f'Mean Squared Error on Test Set: {mse}')"
   ]
  },
  {
   "cell_type": "code",
   "execution_count": 50,
   "id": "6365fd61",
   "metadata": {},
   "outputs": [
    {
     "name": "stdout",
     "output_type": "stream",
     "text": [
      "Predicted Accident Count: 14.876718134444529\n"
     ]
    },
    {
     "name": "stderr",
     "output_type": "stream",
     "text": [
      "C:\\Users\\MSI KATANA\\anaconda3\\Lib\\site-packages\\sklearn\\base.py:464: UserWarning: X does not have valid feature names, but LinearRegression was fitted with feature names\n",
      "  warnings.warn(\n"
     ]
    }
   ],
   "source": [
    "# example \n",
    "user_input_day_of_week = 1  \n",
    "user_input_time_period = 5  \n",
    "\n",
    "predicted_accident_count = predict_accident_count(user_input_day_of_week, user_input_time_period, model)\n",
    "print(f'Predicted Accident Count: {predicted_accident_count}')\n"
   ]
  },
  {
   "cell_type": "code",
   "execution_count": null,
   "id": "f3b907ee",
   "metadata": {},
   "outputs": [],
   "source": []
  }
 ],
 "metadata": {
  "kernelspec": {
   "display_name": "Python 3 (ipykernel)",
   "language": "python",
   "name": "python3"
  },
  "language_info": {
   "codemirror_mode": {
    "name": "ipython",
    "version": 3
   },
   "file_extension": ".py",
   "mimetype": "text/x-python",
   "name": "python",
   "nbconvert_exporter": "python",
   "pygments_lexer": "ipython3",
   "version": "3.11.5"
  }
 },
 "nbformat": 4,
 "nbformat_minor": 5
}
