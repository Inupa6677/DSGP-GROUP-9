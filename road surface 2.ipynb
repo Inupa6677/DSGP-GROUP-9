{
 "cells": [
  {
   "cell_type": "code",
   "execution_count": 12,
   "id": "988ff0d7",
   "metadata": {},
   "outputs": [
    {
     "name": "stderr",
     "output_type": "stream",
     "text": [
      "C:\\Users\\Vihanga Ranaweera\\AppData\\Local\\Temp\\ipykernel_13920\\3726826667.py:6: DtypeWarning: Columns (0,2,3,4) have mixed types. Specify dtype option on import or set low_memory=False.\n",
      "  data = pd.read_csv('C:/Users/Vihanga Ranaweera/Documents/GitHub/DSGP-GROUP-9/Birmingham_road_surface_dataset.csv')\n"
     ]
    },
    {
     "name": "stdout",
     "output_type": "stream",
     "text": [
      "Predicted Accident Count: 27.703178571428577\n"
     ]
    }
   ],
   "source": [
    "import pandas as pd\n",
    "from sklearn.model_selection import train_test_split\n",
    "from sklearn.ensemble import RandomForestRegressor\n",
    "from sklearn.metrics import mean_absolute_error\n",
    "\n",
    "data = pd.read_csv('C:/Users/Vihanga Ranaweera/Documents/GitHub/DSGP-GROUP-9/Birmingham_road_surface_dataset.csv')\n",
    "\n",
    "data = data.dropna()\n",
    "\n",
    "ndata = data.drop(columns=['Year'])\n",
    "ndata\n",
    "\n",
    "features = ['Day of the Week', 'Time Period', 'Road Surface']\n",
    "target = 'Acc Count'\n",
    "\n",
    "from sklearn.preprocessing import LabelEncoder\n",
    "\n",
    "label_encoder = LabelEncoder()\n",
    "ndata['Zone'] = label_encoder.fit_transform(data['Zone'])\n",
    "ndata['Day of the Week'] = label_encoder.fit_transform(data['Day of the Week'])\n",
    "ndata['Time Period'] = label_encoder.fit_transform(data['Time Period'])\n",
    "ndata['Road Surface'] = label_encoder.fit_transform(data['Road Surface'])\n",
    "\n",
    "X = ndata[['Day of the Week', 'Time Period', 'Road Surface']]\n",
    "y = ndata['Acc Count']\n",
    "\n",
    "X_train, X_test, y_train, y_test = train_test_split(X, y, test_size=0.2, random_state=42)\n",
    "\n",
    "model = RandomForestRegressor(random_state=42)\n",
    "model.fit(X_train, y_train)\n",
    "\n",
    "new_data = pd.DataFrame({\n",
    "    'Day of the Week': [1],\n",
    "    'Time Period': [8], \n",
    "    'Road Surface': [1] })\n",
    "\n",
    "predicted_accident_count = model.predict(new_data)\n",
    "print(f'Predicted Accident Count: {predicted_accident_count[0]}')\n"
   ]
  },
  {
   "cell_type": "code",
   "execution_count": null,
   "id": "c415dd30",
   "metadata": {},
   "outputs": [],
   "source": []
  },
  {
   "cell_type": "code",
   "execution_count": null,
   "id": "b385af04",
   "metadata": {},
   "outputs": [],
   "source": []
  }
 ],
 "metadata": {
  "kernelspec": {
   "display_name": "Python 3 (ipykernel)",
   "language": "python",
   "name": "python3"
  },
  "language_info": {
   "codemirror_mode": {
    "name": "ipython",
    "version": 3
   },
   "file_extension": ".py",
   "mimetype": "text/x-python",
   "name": "python",
   "nbconvert_exporter": "python",
   "pygments_lexer": "ipython3",
   "version": "3.11.5"
  }
 },
 "nbformat": 4,
 "nbformat_minor": 5
}
